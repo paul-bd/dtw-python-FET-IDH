{
 "cells": [
  {
   "cell_type": "code",
   "execution_count": 1,
   "metadata": {
    "collapsed": true
   },
   "outputs": [],
   "source": [
    "import pandas as pd\n",
    "import nilearn\n",
    "from nilearn import image\n",
    "import numpy as np\n",
    "%matplotlib inline\n",
    "from nilearn.image import new_img_like\n",
    "from nilearn import plotting\n",
    "from nilearn import input_data\n",
    "import matplotlib.pyplot as plt\n",
    "from nilearn.input_data import NiftiMasker\n",
    "import random\n",
    "from nilearn import image\n",
    "from nilearn.plotting import plot_stat_map, show"
   ]
  },
  {
   "cell_type": "code",
   "execution_count": 2,
   "metadata": {
    "collapsed": true
   },
   "outputs": [],
   "source": [
    "import random\n",
    "\n",
    "def k_means_clust(data,num_clust,num_iter):\n",
    "    centroids=random.sample(list(data),num_clust)\n",
    "    counter=0\n",
    "    for n in range(num_iter):\n",
    "        counter+=1\n",
    "        print(counter)\n",
    "        assignments={}\n",
    "        #assign data points to clusters\n",
    "        for ind,i in enumerate(data):\n",
    "            min_dist=float('inf')\n",
    "            closest_clust=None\n",
    "            for c_ind,j in enumerate(centroids):\n",
    "                if LB_Keogh(i,j,5)<min_dist:\n",
    "                    cur_dist=DTWDistance(i,j)\n",
    "                    if cur_dist<min_dist:\n",
    "                        min_dist=cur_dist\n",
    "                        closest_clust=c_ind\n",
    "            if closest_clust in assignments:\n",
    "                assignments[closest_clust].append(ind)\n",
    "            else:\n",
    "                assignments[closest_clust]=[]\n",
    "\n",
    "        #recalculate centroids of clusters\n",
    "        for key in assignments:\n",
    "            clust_sum=0\n",
    "            for k in assignments[key]:\n",
    "                clust_sum=clust_sum+data[k]\n",
    "            centroids[key]=[m/len(assignments[key]) for m in clust_sum]\n",
    "\n",
    "    return centroids,assignments\n",
    "\n",
    "def DTWDistance(s1, s2):\n",
    "    DTW={}\n",
    "\n",
    "    for i in range(len(s1)):\n",
    "        DTW[(i, -1)] = float('inf')\n",
    "    for i in range(len(s2)):\n",
    "        DTW[(-1, i)] = float('inf')\n",
    "    DTW[(-1, -1)] = 0\n",
    "\n",
    "    for i in range(len(s1)):\n",
    "        for j in range(len(s2)):\n",
    "            dist= (s1[i]-s2[j])**2\n",
    "            DTW[(i, j)] = dist + min(DTW[(i-1, j)],DTW[(i, j-1)], DTW[(i-1, j-1)])\n",
    "\n",
    "    return (DTW[len(s1)-1, len(s2)-1])**0.5\n",
    "\n",
    "def LB_Keogh(s1,s2,r):\n",
    "    LB_sum=0\n",
    "    for ind,i in enumerate(s1):\n",
    "\n",
    "        lower_bound=min(s2[(ind-r if ind-r>=0 else 0):(ind+r)])\n",
    "        upper_bound=max(s2[(ind-r if ind-r>=0 else 0):(ind+r)])\n",
    "\n",
    "        if i>upper_bound:\n",
    "            LB_sum=LB_sum+(i-upper_bound)**2\n",
    "        elif i<lower_bound:\n",
    "            LB_sum=LB_sum+(i-lower_bound)**2\n",
    "\n",
    "    return (LB_sum)**0.5"
   ]
  },
  {
   "cell_type": "code",
   "execution_count": 13,
   "metadata": {
    "collapsed": false
   },
   "outputs": [],
   "source": [
    "##\n",
    "nb_patient=37\n",
    "for i in range(1,nb_patient+1):\n",
    "    num_patient='p'+str(i)\n",
    "    path_patient='/Users/Paul/Documents/articles/Perso/FET_dyn_IDH/dynamique/'\n",
    "    images_p=nilearn.image.load_img(path_patient+num_patient+'/preprocessing/rr*.nii')\n",
    "    mask_p=nilearn.image.load_img(path_patient+num_patient+'/preprocessing/mask_dil_*.nii')\n",
    "    #images_p.to_filename(path_patient+'FINAL/DATA/'+num_patient+'.nii.gz')\n",
    "    #mask_p.to_filename(path_patient+'FINAL/MASK/mask_dil_'+num_patient+'.nii')\n",
    "    #dataset.append(path_patient+'DATA/'+num_patient+'.nii.gz')\n",
    "   #mask_dataset.append(path_patient+'MASK/mask_dil_'+num_patient+'.nii')"
   ]
  },
  {
   "cell_type": "code",
   "execution_count": 14,
   "metadata": {
    "collapsed": true
   },
   "outputs": [],
   "source": [
    "######### Charge les données\n",
    "dataset=[]\n",
    "mask_dataset=[]\n",
    "mask_neurom='/Users/Paul/Documents/articles/Perso/FET/patients/SPM/Neuromorphometrics_mask.nii'\n",
    "n_patient=37\n",
    "for i in range(1,n_patient+1):\n",
    "    num_patient='p'+str(i)\n",
    "    path_patient='/Users/Paul/Documents/articles/Perso/FET_dyn_IDH/dynamique/FINAL/'\n",
    "    dataset.append(path_patient+'DATA/'+num_patient+'.nii.gz')\n",
    "    mask_dataset.append(path_patient+'MASK/mask_dil_'+num_patient+'.nii')\n",
    "\n",
    "#######nb de voxel par mask\n",
    "mask=nilearn.image.load_img(mask_dataset)\n",
    "nb_voxel_mask=[]\n",
    "for i in range(0,np.size(mask_dataset)):\n",
    "    maski=image.index_img(mask, i)\n",
    "    nb_voxel_mask.append(np.sum(maski.get_data()>0))\n",
    "    \n",
    "##    \n",
    "l_patient=np.arange(1,len(dataset)+1)\n",
    "l_patient_long=np.repeat(l_patient,nb_voxel_mask)\n",
    "target_patient=set(l_patient)"
   ]
  },
  {
   "cell_type": "code",
   "execution_count": 15,
   "metadata": {
    "collapsed": true
   },
   "outputs": [],
   "source": [
    " #####################A REFAIRE POUR CHAQUE PATIENT #####\n",
    "########### ATTENTION au dataset[0 !!] ordre dans la liste diff du num\n",
    "\n",
    " #         A CHANGER : les num des masker et les mask / dataset\n",
    "### patient 1\n",
    "masker1 = NiftiMasker(mask_img=image.index_img(mask, 0),smoothing_fwhm=8, memory='nilearn_cache', memory_level=1, standardize=True)\n",
    "data_masked1 = masker1.fit_transform(dataset[0])\n",
    "### patient 2\n",
    "masker2 = NiftiMasker(mask_img=image.index_img(mask, 1),smoothing_fwhm=8, memory='nilearn_cache', memory_level=1, standardize=True)\n",
    "data_masked2 = masker2.fit_transform(dataset[1])\n",
    "### patient 3\n",
    "masker3= NiftiMasker(mask_img=image.index_img(mask, 2),smoothing_fwhm=8, memory='nilearn_cache', memory_level=1, standardize=True)\n",
    "data_masked3 = masker3.fit_transform(dataset[2])\n",
    "### patient 4\n",
    "masker4 = NiftiMasker(mask_img=image.index_img(mask, 3),smoothing_fwhm=8, memory='nilearn_cache', memory_level=1, standardize=True)\n",
    "data_masked4 = masker4.fit_transform(dataset[3])\n",
    "### patient 5\n",
    "masker5 = NiftiMasker(mask_img=image.index_img(mask, 4),smoothing_fwhm=8, memory='nilearn_cache', memory_level=1, standardize=True)\n",
    "data_masked5 = masker5.fit_transform(dataset[4])\n",
    "\n",
    "### patient 6\n",
    "masker6 = NiftiMasker(mask_img=image.index_img(mask, 5),smoothing_fwhm=8, memory='nilearn_cache', memory_level=1, standardize=True)\n",
    "data_masked6 = masker6.fit_transform(dataset[5])\n",
    "\n",
    "### patient 7\n",
    "masker7 = NiftiMasker(mask_img=image.index_img(mask, 6),smoothing_fwhm=8, memory='nilearn_cache', memory_level=1, standardize=True)\n",
    "data_masked7 = masker7.fit_transform(dataset[6])\n",
    "### patient 8\n",
    "masker8 = NiftiMasker(mask_img=image.index_img(mask, 7),smoothing_fwhm=8, memory='nilearn_cache', memory_level=1, standardize=True)\n",
    "data_masked8 = masker8.fit_transform(dataset[7])\n",
    "\n",
    "### patient 9\n",
    "masker9 = NiftiMasker(mask_img=image.index_img(mask, 8),smoothing_fwhm=8, memory='nilearn_cache', memory_level=1, standardize=True)\n",
    "data_masked9 = masker9.fit_transform(dataset[8])\n",
    "### patient 10\n",
    "masker10 = NiftiMasker(mask_img=image.index_img(mask, 9),smoothing_fwhm=8, memory='nilearn_cache', memory_level=1, standardize=True)\n",
    "data_masked10 = masker10.fit_transform(dataset[9])\n",
    "### patient 11\n",
    "masker11 = NiftiMasker(mask_img=image.index_img(mask, 10),smoothing_fwhm=8, memory='nilearn_cache', memory_level=1, standardize=True)\n",
    "data_masked11 = masker11.fit_transform(dataset[10])\n",
    "### patient 12\n",
    "masker12 = NiftiMasker(mask_img=image.index_img(mask, 11),smoothing_fwhm=8, memory='nilearn_cache', memory_level=1, standardize=True)\n",
    "data_masked12 = masker12.fit_transform(dataset[11])\n",
    "### patient 13\n",
    "masker13 = NiftiMasker(mask_img=image.index_img(mask, 12),smoothing_fwhm=8, memory='nilearn_cache', memory_level=1, standardize=True)\n",
    "data_masked13 = masker13.fit_transform(dataset[12])\n",
    "### patient 14\n",
    "masker14 = NiftiMasker(mask_img=image.index_img(mask, 13),smoothing_fwhm=8, memory='nilearn_cache', memory_level=1, standardize=True)\n",
    "data_masked14 = masker14.fit_transform(dataset[13])\n",
    "### patient 15\n",
    "masker15 = NiftiMasker(mask_img=image.index_img(mask, 14),smoothing_fwhm=8, memory='nilearn_cache', memory_level=1, standardize=True)\n",
    "data_masked15 = masker15.fit_transform(dataset[14])\n",
    "\n",
    "### patient 16\n",
    "masker16 = NiftiMasker(mask_img=image.index_img(mask, 15),smoothing_fwhm=8, memory='nilearn_cache', memory_level=1, standardize=True)\n",
    "data_masked16 = masker16.fit_transform(dataset[15])\n",
    "### patient 17\n",
    "masker17 = NiftiMasker(mask_img=image.index_img(mask, 16),smoothing_fwhm=8, memory='nilearn_cache', memory_level=1, standardize=True)\n",
    "data_masked17 = masker17.fit_transform(dataset[16])\n",
    "### patient 18\n",
    "masker18 = NiftiMasker(mask_img=image.index_img(mask, 17),smoothing_fwhm=8, memory='nilearn_cache', memory_level=1, standardize=True)\n",
    "data_masked18 = masker18.fit_transform(dataset[17])\n",
    "\n",
    "### patient 19\n",
    "masker19 = NiftiMasker(mask_img=image.index_img(mask, 18),smoothing_fwhm=8, memory='nilearn_cache', memory_level=1, standardize=True)\n",
    "data_masked19 = masker19.fit_transform(dataset[18])\n",
    "### patient 20\n",
    "masker20 = NiftiMasker(mask_img=image.index_img(mask, 19),smoothing_fwhm=8, memory='nilearn_cache', memory_level=1, standardize=True)\n",
    "data_masked20 = masker20.fit_transform(dataset[19])\n",
    "### patient 21\n",
    "masker21 = NiftiMasker(mask_img=image.index_img(mask, 20),smoothing_fwhm=8, memory='nilearn_cache', memory_level=1, standardize=True)\n",
    "data_masked21 = masker21.fit_transform(dataset[20])\n",
    "### patient 22\n",
    "masker22 = NiftiMasker(mask_img=image.index_img(mask, 21),smoothing_fwhm=8, memory='nilearn_cache', memory_level=1, standardize=True)\n",
    "data_masked22 = masker22.fit_transform(dataset[21])\n",
    "### patient 23\n",
    "masker23 = NiftiMasker(mask_img=image.index_img(mask, 22),smoothing_fwhm=8, memory='nilearn_cache', memory_level=1, standardize=True)\n",
    "data_masked23 = masker23.fit_transform(dataset[22])\n",
    "### patient 24\n",
    "masker24 = NiftiMasker(mask_img=image.index_img(mask, 23),smoothing_fwhm=8, memory='nilearn_cache', memory_level=1, standardize=True)\n",
    "data_masked24 = masker24.fit_transform(dataset[23])\n",
    "### patient 25\n",
    "masker25 = NiftiMasker(mask_img=image.index_img(mask, 24),smoothing_fwhm=8, memory='nilearn_cache', memory_level=1, standardize=True)\n",
    "data_masked25 = masker25.fit_transform(dataset[24])\n",
    "### patient 26\n",
    "masker26 = NiftiMasker(mask_img=image.index_img(mask, 25),smoothing_fwhm=8, memory='nilearn_cache', memory_level=1, standardize=True)\n",
    "data_masked26 = masker26.fit_transform(dataset[25])\n",
    "\n",
    "### patient 27\n",
    "masker27 = NiftiMasker(mask_img=image.index_img(mask, 26),smoothing_fwhm=8, memory='nilearn_cache', memory_level=1, standardize=True)\n",
    "data_masked27 = masker27.fit_transform(dataset[26])\n",
    "\n",
    "### patient 28\n",
    "masker28 = NiftiMasker(mask_img=image.index_img(mask, 27),smoothing_fwhm=8, memory='nilearn_cache', memory_level=1, standardize=True)\n",
    "data_masked28 = masker28.fit_transform(dataset[27])\n",
    "\n",
    "### patient 29\n",
    "masker29= NiftiMasker(mask_img=image.index_img(mask, 28),smoothing_fwhm=8, memory='nilearn_cache', memory_level=1, standardize=True)\n",
    "data_masked29 = masker29.fit_transform(dataset[28])\n",
    "\n",
    "### patient 30\n",
    "masker30 = NiftiMasker(mask_img=image.index_img(mask, 29),smoothing_fwhm=8, memory='nilearn_cache', memory_level=1, standardize=True)\n",
    "data_masked30 = masker30.fit_transform(dataset[29])\n",
    "\n",
    "### patient 31\n",
    "masker31 = NiftiMasker(mask_img=image.index_img(mask, 30),smoothing_fwhm=8, memory='nilearn_cache', memory_level=1, standardize=True)\n",
    "data_masked31 = masker31.fit_transform(dataset[30])\n",
    "\n",
    "### patient 32\n",
    "masker32 = NiftiMasker(mask_img=image.index_img(mask, 31),smoothing_fwhm=8, memory='nilearn_cache', memory_level=1, standardize=True)\n",
    "data_masked32 = masker32.fit_transform(dataset[31])\n",
    "\n",
    "### patient 33\n",
    "masker33 = NiftiMasker(mask_img=image.index_img(mask, 32),smoothing_fwhm=8, memory='nilearn_cache', memory_level=1, standardize=True)\n",
    "data_masked33 = masker33.fit_transform(dataset[32])\n",
    "\n",
    "### patient 34\n",
    "masker34 = NiftiMasker(mask_img=image.index_img(mask, 33),smoothing_fwhm=8, memory='nilearn_cache', memory_level=1, standardize=True)\n",
    "data_masked34 = masker34.fit_transform(dataset[33])\n",
    "\n",
    "### patient 35\n",
    "masker35 = NiftiMasker(mask_img=image.index_img(mask, 34),smoothing_fwhm=8, memory='nilearn_cache', memory_level=1, standardize=True)\n",
    "data_masked35 = masker35.fit_transform(dataset[34])\n",
    "\n",
    "### patient 36\n",
    "masker36 = NiftiMasker(mask_img=image.index_img(mask, 35),smoothing_fwhm=8, memory='nilearn_cache', memory_level=1, standardize=True)\n",
    "data_masked36 = masker36.fit_transform(dataset[35])\n",
    "\n",
    "\n",
    "### patient 37\n",
    "masker37 = NiftiMasker(mask_img=image.index_img(mask, 36),smoothing_fwhm=8, memory='nilearn_cache', memory_level=1, standardize=True)\n",
    "data_masked37 = masker37.fit_transform(dataset[36])\n"
   ]
  },
  {
   "cell_type": "code",
   "execution_count": 16,
   "metadata": {
    "collapsed": true
   },
   "outputs": [],
   "source": [
    "#####SI TOUS LES PATIENTS\n",
    "############## ajouter les uns à la suite des autres+++\n",
    "X=np.concatenate((data_masked1,data_masked2,data_masked3,data_masked4,\n",
    "                 data_masked5,data_masked6,data_masked7,data_masked8,data_masked9,data_masked10,data_masked11,data_masked12,\n",
    "                 data_masked13,data_masked14,data_masked15,data_masked16,data_masked17,data_masked18,data_masked19,\n",
    "                 data_masked20,data_masked21,data_masked22,data_masked23,data_masked24,data_masked25,data_masked26,data_masked27,\n",
    "                 data_masked28,data_masked29,data_masked30,data_masked31,data_masked32,data_masked33,data_masked34,\n",
    "                 data_masked35,data_masked36,data_masked37),axis=1)\n",
    "\n",
    "if (X.shape[1]-np.sum(nb_voxel_mask))!=0 : \n",
    "    print(\"ATTENTION ERREUR MASKER\")"
   ]
  },
  {
   "cell_type": "code",
   "execution_count": 17,
   "metadata": {
    "collapsed": true
   },
   "outputs": [],
   "source": [
    "vox_ts=X.T\n"
   ]
  },
  {
   "cell_type": "code",
   "execution_count": 18,
   "metadata": {
    "collapsed": false
   },
   "outputs": [
    {
     "name": "stdout",
     "output_type": "stream",
     "text": [
      "1\n",
      "2\n",
      "3\n",
      "4\n",
      "5\n",
      "6\n",
      "7\n",
      "8\n"
     ]
    }
   ],
   "source": [
    "centroids1_8,assignments1_8=k_means_clust(vox_ts,1,8)"
   ]
  },
  {
   "cell_type": "code",
   "execution_count": 19,
   "metadata": {
    "collapsed": false
   },
   "outputs": [
    {
     "name": "stdout",
     "output_type": "stream",
     "text": [
      "1\n",
      "2\n",
      "3\n",
      "4\n",
      "5\n",
      "6\n",
      "7\n",
      "8\n"
     ]
    }
   ],
   "source": [
    "centroids2_8,assignments2_8=k_means_clust(vox_ts,2,8)"
   ]
  },
  {
   "cell_type": "code",
   "execution_count": 20,
   "metadata": {
    "collapsed": false
   },
   "outputs": [
    {
     "name": "stdout",
     "output_type": "stream",
     "text": [
      "1\n",
      "2\n",
      "3\n",
      "4\n",
      "5\n",
      "6\n",
      "7\n",
      "8\n"
     ]
    }
   ],
   "source": [
    "centroids3_8,assignments3_8=k_means_clust(vox_ts,3,8)"
   ]
  },
  {
   "cell_type": "code",
   "execution_count": 21,
   "metadata": {
    "collapsed": false
   },
   "outputs": [
    {
     "name": "stdout",
     "output_type": "stream",
     "text": [
      "1\n",
      "2\n",
      "3\n",
      "4\n",
      "5\n",
      "6\n",
      "7\n",
      "8\n"
     ]
    }
   ],
   "source": [
    "centroids4_8,assignments4_8=k_means_clust(vox_ts,4,8)"
   ]
  },
  {
   "cell_type": "code",
   "execution_count": 22,
   "metadata": {
    "collapsed": false
   },
   "outputs": [
    {
     "name": "stdout",
     "output_type": "stream",
     "text": [
      "1\n",
      "2\n",
      "3\n",
      "4\n",
      "5\n",
      "6\n",
      "7\n",
      "8\n"
     ]
    }
   ],
   "source": [
    "centroids5_8,assignments5_8=k_means_clust(vox_ts,5,8)"
   ]
  },
  {
   "cell_type": "code",
   "execution_count": 23,
   "metadata": {
    "collapsed": false
   },
   "outputs": [
    {
     "name": "stdout",
     "output_type": "stream",
     "text": [
      "1\n",
      "2\n",
      "3\n",
      "4\n",
      "5\n",
      "6\n",
      "7\n",
      "8\n"
     ]
    }
   ],
   "source": [
    "centroids6_8,assignments6_8=k_means_clust(vox_ts,6,8)"
   ]
  },
  {
   "cell_type": "code",
   "execution_count": 27,
   "metadata": {
    "collapsed": true
   },
   "outputs": [],
   "source": [
    "MSE_cluster=[]"
   ]
  },
  {
   "cell_type": "code",
   "execution_count": 37,
   "metadata": {
    "collapsed": false
   },
   "outputs": [],
   "source": [
    "min_MSE=np.repeat(np.nan,vox_ts.shape[0])\n",
    "vox_MSE=np.repeat(np.nan,vox_ts.shape[0])\n",
    "for iter_test in range(0,(vox_ts.shape[0])):\n",
    "    min_dist=np.argmin(np.sum((vox_ts[iter_test]-centroids6_8)**2,axis=1))\n",
    "    min_MSE[iter_test]=min_dist\n",
    "    vox_MSE[iter_test]=np.sum((vox_ts[iter_test]-centroids6_8[int(min_MSE[iter_test])])**2)\n"
   ]
  },
  {
   "cell_type": "code",
   "execution_count": 38,
   "metadata": {
    "collapsed": false
   },
   "outputs": [],
   "source": []
  },
  {
   "cell_type": "code",
   "execution_count": 39,
   "metadata": {
    "collapsed": false
   },
   "outputs": [
    {
     "data": {
      "text/plain": [
       "[1099513.2694235423,\n",
       " 434713.72993474966,\n",
       " 313183.31404448039,\n",
       " 252927.83986166638,\n",
       " 240597.03387366122,\n",
       " 232924.40666993498]"
      ]
     },
     "execution_count": 39,
     "metadata": {},
     "output_type": "execute_result"
    }
   ],
   "source": [
    "MSE_cluster"
   ]
  },
  {
   "cell_type": "code",
   "execution_count": 40,
   "metadata": {
    "collapsed": false
   },
   "outputs": [],
   "source": []
  },
  {
   "cell_type": "code",
   "execution_count": 48,
   "metadata": {
    "collapsed": false
   },
   "outputs": [
    {
     "data": {
      "image/png": "[encoded data removed]",
      "text/plain": [
       "<matplotlib.figure.Figure at 0x1222c0da0>"
      ]
     },
     "metadata": {},
     "output_type": "display_data"
    }
   ],
   "source": [
    "import matplotlib.pyplot as plt\n",
    "from matplotlib.ticker import MaxNLocator\n",
    "\n",
    "fig = plt.figure()\n",
    "fig.suptitle('Sum Squared Error curve', fontsize=14)\n",
    "\n",
    "ax = fig.add_subplot(111)\n",
    "fig.subplots_adjust(top=0.85)\n",
    "ax.set_xlabel('Number of Clusters (k)')\n",
    "ax.set_ylabel('Sum of Squared Errors')\n",
    "\n",
    "#ax.set_ylim([0,1100000])\n",
    "ax.xaxis.set_major_locator(MaxNLocator(integer=True))\n",
    "ax.plot([3], [313183], 'o',color='r')\n",
    "ax.annotate('', xy=(3, 313183), xytext=(3.5, 500000),\n",
    "            arrowprops=dict(facecolor='black', shrink=0.001))\n",
    "\n",
    "ax.plot(x,MSE_cluster)\n",
    "\n",
    "fig.savefig('SSE_cluster_3.png')"
   ]
  },
  {
   "cell_type": "code",
   "execution_count": null,
   "metadata": {
    "collapsed": true
   },
   "outputs": [],
   "source": []
  }
 ],
 "metadata": {
  "kernelspec": {
   "display_name": "Python 3",
   "language": "python",
   "name": "kernel_test"
  },
  "language_info": {
   "codemirror_mode": {
    "name": "ipython",
    "version": 3
   },
   "file_extension": ".py",
   "mimetype": "text/x-python",
   "name": "python",
   "nbconvert_exporter": "python",
   "pygments_lexer": "ipython3",
   "version": "3.5.3"
  }
 },
 "nbformat": 4,
 "nbformat_minor": 2
}
