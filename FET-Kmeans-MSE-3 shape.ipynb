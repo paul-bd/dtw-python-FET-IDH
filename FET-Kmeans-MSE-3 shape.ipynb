{
 "cells": [
  {
   "cell_type": "markdown",
   "metadata": {
    "collapsed": true
   },
   "source": []
  },
  {
   "cell_type": "code",
   "execution_count": 1,
   "metadata": {
    "collapsed": true
   },
   "outputs": [],
   "source": [
    "import pandas as pd\n",
    "import nilearn\n",
    "from nilearn import image\n",
    "import numpy as np\n",
    "%matplotlib inline\n",
    "from nilearn.image import new_img_like\n",
    "from nilearn import plotting\n",
    "from nilearn import input_data\n",
    "import matplotlib.pyplot as plt\n",
    "from nilearn.input_data import NiftiMasker\n",
    "import random\n",
    "from nilearn import image\n",
    "from nilearn.plotting import plot_stat_map, show"
   ]
  },
  {
   "cell_type": "code",
   "execution_count": 2,
   "metadata": {
    "collapsed": false
   },
   "outputs": [],
   "source": [
    "##\n",
    "nb_patient=37\n",
    "for i in range(36,nb_patient+1):\n",
    "    num_patient='p'+str(i)\n",
    "    path_patient='/Users/Paul/Documents/articles/Perso/FET_dyn_IDH/dynamique/'\n",
    "    images_p=nilearn.image.load_img(path_patient+num_patient+'/preprocessing/rr*.nii')\n",
    "    mask_p=nilearn.image.load_img(path_patient+num_patient+'/preprocessing/mask_dil_*.nii')\n",
    "    #images_p.to_filename(path_patient+'FINAL/DATA/'+num_patient+'.nii.gz')\n",
    "    #mask_p.to_filename(path_patient+'FINAL/MASK/mask_dil_'+num_patient+'.nii')\n",
    "    #dataset.append(path_patient+'DATA/'+num_patient+'.nii.gz')\n",
    "   #mask_dataset.append(path_patient+'MASK/mask_dil_'+num_patient+'.nii')"
   ]
  },
  {
   "cell_type": "code",
   "execution_count": 3,
   "metadata": {
    "collapsed": true
   },
   "outputs": [],
   "source": [
    "import random\n",
    "\n",
    "def k_means_clust(data,num_clust,num_iter):\n",
    "    centroids=random.sample(list(data),num_clust)\n",
    "    counter=0\n",
    "    for n in range(num_iter):\n",
    "        counter+=1\n",
    "        print(counter)\n",
    "        assignments={}\n",
    "        #assign data points to clusters\n",
    "        for ind,i in enumerate(data):\n",
    "            min_dist=float('inf')\n",
    "            closest_clust=None\n",
    "            for c_ind,j in enumerate(centroids):\n",
    "                if LB_Keogh(i,j,5)<min_dist:\n",
    "                    cur_dist=DTWDistance(i,j)\n",
    "                    if cur_dist<min_dist:\n",
    "                        min_dist=cur_dist\n",
    "                        closest_clust=c_ind\n",
    "            if closest_clust in assignments:\n",
    "                assignments[closest_clust].append(ind)\n",
    "            else:\n",
    "                assignments[closest_clust]=[]\n",
    "\n",
    "        #recalculate centroids of clusters\n",
    "        for key in assignments:\n",
    "            clust_sum=0\n",
    "            for k in assignments[key]:\n",
    "                clust_sum=clust_sum+data[k]\n",
    "            centroids[key]=[m/len(assignments[key]) for m in clust_sum]\n",
    "\n",
    "    return centroids,assignments\n",
    "\n",
    "def DTWDistance(s1, s2):\n",
    "    DTW={}\n",
    "\n",
    "    for i in range(len(s1)):\n",
    "        DTW[(i, -1)] = float('inf')\n",
    "    for i in range(len(s2)):\n",
    "        DTW[(-1, i)] = float('inf')\n",
    "    DTW[(-1, -1)] = 0\n",
    "\n",
    "    for i in range(len(s1)):\n",
    "        for j in range(len(s2)):\n",
    "            dist= (s1[i]-s2[j])**2\n",
    "            DTW[(i, j)] = dist + min(DTW[(i-1, j)],DTW[(i, j-1)], DTW[(i-1, j-1)])\n",
    "\n",
    "    return (DTW[len(s1)-1, len(s2)-1])**0.5\n",
    "\n",
    "def LB_Keogh(s1,s2,r):\n",
    "    LB_sum=0\n",
    "    for ind,i in enumerate(s1):\n",
    "\n",
    "        lower_bound=min(s2[(ind-r if ind-r>=0 else 0):(ind+r)])\n",
    "        upper_bound=max(s2[(ind-r if ind-r>=0 else 0):(ind+r)])\n",
    "\n",
    "        if i>upper_bound:\n",
    "            LB_sum=LB_sum+(i-upper_bound)**2\n",
    "        elif i<lower_bound:\n",
    "            LB_sum=LB_sum+(i-lower_bound)**2\n",
    "\n",
    "    return (LB_sum)**0.5"
   ]
  },
  {
   "cell_type": "code",
   "execution_count": 3,
   "metadata": {
    "collapsed": true
   },
   "outputs": [],
   "source": [
    "######### Charge les données\n",
    "dataset=[]\n",
    "mask_dataset=[]\n",
    "mask_neurom='/Users/Paul/Documents/articles/Perso/FET/patients/SPM/Neuromorphometrics_mask.nii'\n",
    "n_patient=37\n",
    "for i in range(1,n_patient+1):\n",
    "    num_patient='p'+str(i)\n",
    "    path_patient='/Users/Paul/Documents/articles/Perso/FET_dyn_IDH/dynamique/FINAL/'\n",
    "    dataset.append(path_patient+'DATA/'+num_patient+'.nii.gz')\n",
    "    mask_dataset.append(path_patient+'MASK/mask_dil_'+num_patient+'.nii')\n"
   ]
  },
  {
   "cell_type": "code",
   "execution_count": 25,
   "metadata": {
    "collapsed": false
   },
   "outputs": [
    {
     "name": "stdout",
     "output_type": "stream",
     "text": [
      "10\n",
      "11\n",
      "12\n",
      "13\n",
      "14\n",
      "15\n",
      "16\n",
      "17\n",
      "18\n",
      "19\n",
      "20\n",
      "21\n",
      "22\n",
      "23\n",
      "24\n",
      "25\n",
      "26\n",
      "27\n",
      "28\n",
      "29\n",
      "30\n",
      "31\n",
      "32\n",
      "33\n",
      "34\n",
      "35\n",
      "36\n"
     ]
    }
   ],
   "source": [
    "for i in range(10,len(dataset)):\n",
    "    print(i)\n",
    "    img=nilearn.image.load_img(dataset[i])\n",
    "    mean_image_i=nilearn.image.mean_img(img)\n",
    "    mean_image_i.to_filename('mean_image_p'+str(i+1)+'.nii')"
   ]
  },
  {
   "cell_type": "code",
   "execution_count": 17,
   "metadata": {
    "collapsed": false
   },
   "outputs": [
    {
     "data": {
      "text/plain": [
       "(91, 109, 91)"
      ]
     },
     "execution_count": 17,
     "metadata": {},
     "output_type": "execute_result"
    }
   ],
   "source": []
  },
  {
   "cell_type": "code",
   "execution_count": 5,
   "metadata": {
    "collapsed": true
   },
   "outputs": [],
   "source": [
    "\n",
    "#######nb de voxel par mask\n",
    "mask=nilearn.image.load_img(mask_dataset)\n",
    "nb_voxel_mask=[]\n",
    "for i in range(0,np.size(mask_dataset)):\n",
    "    maski=image.index_img(mask, i)\n",
    "    nb_voxel_mask.append(np.sum(maski.get_data()>0))"
   ]
  },
  {
   "cell_type": "code",
   "execution_count": 6,
   "metadata": {
    "collapsed": false
   },
   "outputs": [
    {
     "data": {
      "text/plain": [
       "222425"
      ]
     },
     "execution_count": 6,
     "metadata": {},
     "output_type": "execute_result"
    }
   ],
   "source": [
    "np.sum(nb_voxel_mask)"
   ]
  },
  {
   "cell_type": "code",
   "execution_count": 7,
   "metadata": {
    "collapsed": false
   },
   "outputs": [],
   "source": [
    "l_patient=np.arange(1,len(dataset)+1)\n",
    "l_patient_long=np.repeat(l_patient,nb_voxel_mask)\n",
    "target_patient=set(l_patient)"
   ]
  },
  {
   "cell_type": "code",
   "execution_count": 8,
   "metadata": {
    "collapsed": false
   },
   "outputs": [],
   "source": [
    " #####################A REFAIRE POUR CHAQUE PATIENT #####\n",
    "########### ATTENTION au dataset[0 !!] ordre dans la liste diff du num\n",
    "\n",
    " #         A CHANGER : les num des masker et les mask / dataset\n",
    "### patient 1\n",
    "masker1 = NiftiMasker(mask_img=image.index_img(mask, 0),smoothing_fwhm=8, memory='nilearn_cache', memory_level=1, standardize=True)\n",
    "data_masked1 = masker1.fit_transform(dataset[0])\n",
    "### patient 2\n",
    "masker2 = NiftiMasker(mask_img=image.index_img(mask, 1),smoothing_fwhm=8, memory='nilearn_cache', memory_level=1, standardize=True)\n",
    "data_masked2 = masker2.fit_transform(dataset[1])\n",
    "### patient 3\n",
    "masker3= NiftiMasker(mask_img=image.index_img(mask, 2),smoothing_fwhm=8, memory='nilearn_cache', memory_level=1, standardize=True)\n",
    "data_masked3 = masker3.fit_transform(dataset[2])\n",
    "### patient 4\n",
    "masker4 = NiftiMasker(mask_img=image.index_img(mask, 3),smoothing_fwhm=8, memory='nilearn_cache', memory_level=1, standardize=True)\n",
    "data_masked4 = masker4.fit_transform(dataset[3])\n",
    "### patient 5\n",
    "masker5 = NiftiMasker(mask_img=image.index_img(mask, 4),smoothing_fwhm=8, memory='nilearn_cache', memory_level=1, standardize=True)\n",
    "data_masked5 = masker5.fit_transform(dataset[4])\n",
    "\n",
    "### patient 6\n",
    "masker6 = NiftiMasker(mask_img=image.index_img(mask, 5),smoothing_fwhm=8, memory='nilearn_cache', memory_level=1, standardize=True)\n",
    "data_masked6 = masker6.fit_transform(dataset[5])\n",
    "\n",
    "### patient 7\n",
    "masker7 = NiftiMasker(mask_img=image.index_img(mask, 6),smoothing_fwhm=8, memory='nilearn_cache', memory_level=1, standardize=True)\n",
    "data_masked7 = masker7.fit_transform(dataset[6])\n",
    "### patient 8\n",
    "masker8 = NiftiMasker(mask_img=image.index_img(mask, 7),smoothing_fwhm=8, memory='nilearn_cache', memory_level=1, standardize=True)\n",
    "data_masked8 = masker8.fit_transform(dataset[7])\n",
    "\n",
    "### patient 9\n",
    "masker9 = NiftiMasker(mask_img=image.index_img(mask, 8),smoothing_fwhm=8, memory='nilearn_cache', memory_level=1, standardize=True)\n",
    "data_masked9 = masker9.fit_transform(dataset[8])\n",
    "### patient 10\n",
    "masker10 = NiftiMasker(mask_img=image.index_img(mask, 9),smoothing_fwhm=8, memory='nilearn_cache', memory_level=1, standardize=True)\n",
    "data_masked10 = masker10.fit_transform(dataset[9])\n",
    "### patient 11\n",
    "masker11 = NiftiMasker(mask_img=image.index_img(mask, 10),smoothing_fwhm=8, memory='nilearn_cache', memory_level=1, standardize=True)\n",
    "data_masked11 = masker11.fit_transform(dataset[10])\n",
    "### patient 12\n",
    "masker12 = NiftiMasker(mask_img=image.index_img(mask, 11),smoothing_fwhm=8, memory='nilearn_cache', memory_level=1, standardize=True)\n",
    "data_masked12 = masker12.fit_transform(dataset[11])\n",
    "### patient 13\n",
    "masker13 = NiftiMasker(mask_img=image.index_img(mask, 12),smoothing_fwhm=8, memory='nilearn_cache', memory_level=1, standardize=True)\n",
    "data_masked13 = masker13.fit_transform(dataset[12])\n",
    "### patient 14\n",
    "masker14 = NiftiMasker(mask_img=image.index_img(mask, 13),smoothing_fwhm=8, memory='nilearn_cache', memory_level=1, standardize=True)\n",
    "data_masked14 = masker14.fit_transform(dataset[13])\n",
    "### patient 15\n",
    "masker15 = NiftiMasker(mask_img=image.index_img(mask, 14),smoothing_fwhm=8, memory='nilearn_cache', memory_level=1, standardize=True)\n",
    "data_masked15 = masker15.fit_transform(dataset[14])\n",
    "\n",
    "### patient 16\n",
    "masker16 = NiftiMasker(mask_img=image.index_img(mask, 15),smoothing_fwhm=8, memory='nilearn_cache', memory_level=1, standardize=True)\n",
    "data_masked16 = masker16.fit_transform(dataset[15])\n",
    "### patient 17\n",
    "masker17 = NiftiMasker(mask_img=image.index_img(mask, 16),smoothing_fwhm=8, memory='nilearn_cache', memory_level=1, standardize=True)\n",
    "data_masked17 = masker17.fit_transform(dataset[16])\n",
    "### patient 18\n",
    "masker18 = NiftiMasker(mask_img=image.index_img(mask, 17),smoothing_fwhm=8, memory='nilearn_cache', memory_level=1, standardize=True)\n",
    "data_masked18 = masker18.fit_transform(dataset[17])\n",
    "\n",
    "### patient 19\n",
    "masker19 = NiftiMasker(mask_img=image.index_img(mask, 18),smoothing_fwhm=8, memory='nilearn_cache', memory_level=1, standardize=True)\n",
    "data_masked19 = masker19.fit_transform(dataset[18])\n",
    "### patient 20\n",
    "masker20 = NiftiMasker(mask_img=image.index_img(mask, 19),smoothing_fwhm=8, memory='nilearn_cache', memory_level=1, standardize=True)\n",
    "data_masked20 = masker20.fit_transform(dataset[19])\n",
    "### patient 21\n",
    "masker21 = NiftiMasker(mask_img=image.index_img(mask, 20),smoothing_fwhm=8, memory='nilearn_cache', memory_level=1, standardize=True)\n",
    "data_masked21 = masker21.fit_transform(dataset[20])\n",
    "### patient 22\n",
    "masker22 = NiftiMasker(mask_img=image.index_img(mask, 21),smoothing_fwhm=8, memory='nilearn_cache', memory_level=1, standardize=True)\n",
    "data_masked22 = masker22.fit_transform(dataset[21])\n",
    "### patient 23\n",
    "masker23 = NiftiMasker(mask_img=image.index_img(mask, 22),smoothing_fwhm=8, memory='nilearn_cache', memory_level=1, standardize=True)\n",
    "data_masked23 = masker23.fit_transform(dataset[22])\n",
    "### patient 24\n",
    "masker24 = NiftiMasker(mask_img=image.index_img(mask, 23),smoothing_fwhm=8, memory='nilearn_cache', memory_level=1, standardize=True)\n",
    "data_masked24 = masker24.fit_transform(dataset[23])\n",
    "### patient 25\n",
    "masker25 = NiftiMasker(mask_img=image.index_img(mask, 24),smoothing_fwhm=8, memory='nilearn_cache', memory_level=1, standardize=True)\n",
    "data_masked25 = masker25.fit_transform(dataset[24])\n",
    "### patient 26\n",
    "masker26 = NiftiMasker(mask_img=image.index_img(mask, 25),smoothing_fwhm=8, memory='nilearn_cache', memory_level=1, standardize=True)\n",
    "data_masked26 = masker26.fit_transform(dataset[25])\n",
    "\n",
    "### patient 27\n",
    "masker27 = NiftiMasker(mask_img=image.index_img(mask, 26),smoothing_fwhm=8, memory='nilearn_cache', memory_level=1, standardize=True)\n",
    "data_masked27 = masker27.fit_transform(dataset[26])\n",
    "\n",
    "### patient 28\n",
    "masker28 = NiftiMasker(mask_img=image.index_img(mask, 27),smoothing_fwhm=8, memory='nilearn_cache', memory_level=1, standardize=True)\n",
    "data_masked28 = masker28.fit_transform(dataset[27])\n",
    "\n",
    "### patient 29\n",
    "masker29= NiftiMasker(mask_img=image.index_img(mask, 28),smoothing_fwhm=8, memory='nilearn_cache', memory_level=1, standardize=True)\n",
    "data_masked29 = masker29.fit_transform(dataset[28])\n",
    "\n",
    "### patient 30\n",
    "masker30 = NiftiMasker(mask_img=image.index_img(mask, 29),smoothing_fwhm=8, memory='nilearn_cache', memory_level=1, standardize=True)\n",
    "data_masked30 = masker30.fit_transform(dataset[29])\n",
    "\n",
    "### patient 31\n",
    "masker31 = NiftiMasker(mask_img=image.index_img(mask, 30),smoothing_fwhm=8, memory='nilearn_cache', memory_level=1, standardize=True)\n",
    "data_masked31 = masker31.fit_transform(dataset[30])\n",
    "\n",
    "### patient 32\n",
    "masker32 = NiftiMasker(mask_img=image.index_img(mask, 31),smoothing_fwhm=8, memory='nilearn_cache', memory_level=1, standardize=True)\n",
    "data_masked32 = masker32.fit_transform(dataset[31])\n",
    "\n",
    "### patient 33\n",
    "masker33 = NiftiMasker(mask_img=image.index_img(mask, 32),smoothing_fwhm=8, memory='nilearn_cache', memory_level=1, standardize=True)\n",
    "data_masked33 = masker33.fit_transform(dataset[32])\n",
    "\n",
    "### patient 34\n",
    "masker34 = NiftiMasker(mask_img=image.index_img(mask, 33),smoothing_fwhm=8, memory='nilearn_cache', memory_level=1, standardize=True)\n",
    "data_masked34 = masker34.fit_transform(dataset[33])\n",
    "\n",
    "### patient 35\n",
    "masker35 = NiftiMasker(mask_img=image.index_img(mask, 34),smoothing_fwhm=8, memory='nilearn_cache', memory_level=1, standardize=True)\n",
    "data_masked35 = masker35.fit_transform(dataset[34])\n",
    "\n",
    "### patient 36\n",
    "masker36 = NiftiMasker(mask_img=image.index_img(mask, 35),smoothing_fwhm=8, memory='nilearn_cache', memory_level=1, standardize=True)\n",
    "data_masked36 = masker36.fit_transform(dataset[35])\n",
    "\n",
    "\n",
    "### patient 37\n",
    "masker37 = NiftiMasker(mask_img=image.index_img(mask, 36),smoothing_fwhm=8, memory='nilearn_cache', memory_level=1, standardize=True)\n",
    "data_masked37 = masker37.fit_transform(dataset[36])\n"
   ]
  },
  {
   "cell_type": "code",
   "execution_count": 9,
   "metadata": {
    "collapsed": true
   },
   "outputs": [],
   "source": [
    "##################### MASKER NON NORMALISE #####\n",
    "########### ATTENTION au dataset[0 !!] ordre dans la liste diff du num\n",
    "\n",
    " #         A CHANGER : les num des masker et les mask / dataset\n",
    "### patient 1\n",
    "masker1_nn=NiftiMasker(mask_img=image.index_img(mask, 0),smoothing_fwhm=8, memory='nilearn_cache', memory_level=1, standardize=False)\n",
    "data_masked1_nn=masker1_nn.fit_transform(dataset[0])\n",
    "### patient 2\n",
    "masker2_nn=NiftiMasker(mask_img=image.index_img(mask, 1),smoothing_fwhm=8, memory='nilearn_cache', memory_level=1, standardize=False)\n",
    "data_masked2_nn=masker2_nn.fit_transform(dataset[1])\n",
    "### patient 3\n",
    "masker3_nn= NiftiMasker(mask_img=image.index_img(mask, 2),smoothing_fwhm=8, memory='nilearn_cache', memory_level=1, standardize=False)\n",
    "data_masked3_nn=masker3_nn.fit_transform(dataset[2])\n",
    "### patient 4\n",
    "masker4_nn=NiftiMasker(mask_img=image.index_img(mask, 3),smoothing_fwhm=8, memory='nilearn_cache', memory_level=1, standardize=False)\n",
    "data_masked4_nn=masker4_nn.fit_transform(dataset[3])\n",
    "### patient 5\n",
    "masker5_nn=NiftiMasker(mask_img=image.index_img(mask, 4),smoothing_fwhm=8, memory='nilearn_cache', memory_level=1, standardize=False)\n",
    "data_masked5_nn=masker5_nn.fit_transform(dataset[4])\n",
    "\n",
    "### patient 6\n",
    "masker6_nn=NiftiMasker(mask_img=image.index_img(mask, 5),smoothing_fwhm=8, memory='nilearn_cache', memory_level=1, standardize=False)\n",
    "data_masked6_nn=masker6_nn.fit_transform(dataset[5])\n",
    "\n",
    "### patient 7\n",
    "masker7_nn=NiftiMasker(mask_img=image.index_img(mask, 6),smoothing_fwhm=8, memory='nilearn_cache', memory_level=1, standardize=False)\n",
    "data_masked7_nn=masker7_nn.fit_transform(dataset[6])\n",
    "### patient 8\n",
    "masker8_nn=NiftiMasker(mask_img=image.index_img(mask, 7),smoothing_fwhm=8, memory='nilearn_cache', memory_level=1, standardize=False)\n",
    "data_masked8_nn=masker8_nn.fit_transform(dataset[7])\n",
    "\n",
    "### patient 9\n",
    "masker9_nn=NiftiMasker(mask_img=image.index_img(mask, 8),smoothing_fwhm=8, memory='nilearn_cache', memory_level=1, standardize=False)\n",
    "data_masked9_nn=masker9_nn.fit_transform(dataset[8])\n",
    "### patient 10\n",
    "masker10_nn=NiftiMasker(mask_img=image.index_img(mask, 9),smoothing_fwhm=8, memory='nilearn_cache', memory_level=1, standardize=False)\n",
    "data_masked10_nn=masker10_nn.fit_transform(dataset[9])\n",
    "### patient 11\n",
    "masker11_nn=NiftiMasker(mask_img=image.index_img(mask, 10),smoothing_fwhm=8, memory='nilearn_cache', memory_level=1, standardize=False)\n",
    "data_masked11_nn=masker11_nn.fit_transform(dataset[10])\n",
    "### patient 12\n",
    "masker12_nn=NiftiMasker(mask_img=image.index_img(mask, 11),smoothing_fwhm=8, memory='nilearn_cache', memory_level=1, standardize=False)\n",
    "data_masked12_nn=masker12_nn.fit_transform(dataset[11])\n",
    "### patient 13\n",
    "masker13_nn=NiftiMasker(mask_img=image.index_img(mask, 12),smoothing_fwhm=8, memory='nilearn_cache', memory_level=1, standardize=False)\n",
    "data_masked13_nn=masker13_nn.fit_transform(dataset[12])\n",
    "### patient 14\n",
    "masker14_nn=NiftiMasker(mask_img=image.index_img(mask, 13),smoothing_fwhm=8, memory='nilearn_cache', memory_level=1, standardize=False)\n",
    "data_masked14_nn=masker14_nn.fit_transform(dataset[13])\n",
    "### patient 15\n",
    "masker15_nn=NiftiMasker(mask_img=image.index_img(mask, 14),smoothing_fwhm=8, memory='nilearn_cache', memory_level=1, standardize=False)\n",
    "data_masked15_nn=masker15_nn.fit_transform(dataset[14])\n",
    "\n",
    "### patient 16\n",
    "masker16_nn=NiftiMasker(mask_img=image.index_img(mask, 15),smoothing_fwhm=8, memory='nilearn_cache', memory_level=1, standardize=False)\n",
    "data_masked16_nn=masker16_nn.fit_transform(dataset[15])\n",
    "### patient 17\n",
    "masker17_nn=NiftiMasker(mask_img=image.index_img(mask, 16),smoothing_fwhm=8, memory='nilearn_cache', memory_level=1, standardize=False)\n",
    "data_masked17_nn=masker17_nn.fit_transform(dataset[16])\n",
    "### patient 18\n",
    "masker18_nn=NiftiMasker(mask_img=image.index_img(mask, 17),smoothing_fwhm=8, memory='nilearn_cache', memory_level=1, standardize=False)\n",
    "data_masked18_nn=masker18_nn.fit_transform(dataset[17])\n",
    "\n",
    "### patient 19\n",
    "masker19_nn=NiftiMasker(mask_img=image.index_img(mask, 18),smoothing_fwhm=8, memory='nilearn_cache', memory_level=1, standardize=False)\n",
    "data_masked19_nn=masker19_nn.fit_transform(dataset[18])\n",
    "### patient 20\n",
    "masker20_nn=NiftiMasker(mask_img=image.index_img(mask, 19),smoothing_fwhm=8, memory='nilearn_cache', memory_level=1, standardize=False)\n",
    "data_masked20_nn=masker20_nn.fit_transform(dataset[19])\n",
    "### patient 21\n",
    "masker21_nn=NiftiMasker(mask_img=image.index_img(mask, 20),smoothing_fwhm=8, memory='nilearn_cache', memory_level=1, standardize=False)\n",
    "data_masked21_nn=masker21_nn.fit_transform(dataset[20])\n",
    "### patient 22\n",
    "masker22_nn=NiftiMasker(mask_img=image.index_img(mask, 21),smoothing_fwhm=8, memory='nilearn_cache', memory_level=1, standardize=False)\n",
    "data_masked22_nn=masker22_nn.fit_transform(dataset[21])\n",
    "### patient 23\n",
    "masker23_nn=NiftiMasker(mask_img=image.index_img(mask, 22),smoothing_fwhm=8, memory='nilearn_cache', memory_level=1, standardize=False)\n",
    "data_masked23_nn=masker23_nn.fit_transform(dataset[22])\n",
    "### patient 24\n",
    "masker24_nn=NiftiMasker(mask_img=image.index_img(mask, 23),smoothing_fwhm=8, memory='nilearn_cache', memory_level=1, standardize=False)\n",
    "data_masked24_nn=masker24_nn.fit_transform(dataset[23])\n",
    "### patient 25\n",
    "masker25_nn=NiftiMasker(mask_img=image.index_img(mask, 24),smoothing_fwhm=8, memory='nilearn_cache', memory_level=1, standardize=False)\n",
    "data_masked25_nn=masker25_nn.fit_transform(dataset[24])\n",
    "### patient 26\n",
    "masker26_nn=NiftiMasker(mask_img=image.index_img(mask, 25),smoothing_fwhm=8, memory='nilearn_cache', memory_level=1, standardize=False)\n",
    "data_masked26_nn=masker26_nn.fit_transform(dataset[25])\n",
    "\n",
    "### patient 27\n",
    "masker27_nn=NiftiMasker(mask_img=image.index_img(mask, 26),smoothing_fwhm=8, memory='nilearn_cache', memory_level=1, standardize=False)\n",
    "data_masked27_nn=masker27_nn.fit_transform(dataset[26])\n",
    "\n",
    "### patient 28\n",
    "masker28_nn=NiftiMasker(mask_img=image.index_img(mask, 27),smoothing_fwhm=8, memory='nilearn_cache', memory_level=1, standardize=False)\n",
    "data_masked28_nn=masker28_nn.fit_transform(dataset[27])\n",
    "### patient 29\n",
    "masker29_nn= NiftiMasker(mask_img=image.index_img(mask, 28),smoothing_fwhm=8, memory='nilearn_cache', memory_level=1, standardize=False)\n",
    "data_masked29_nn=masker29_nn.fit_transform(dataset[28])\n",
    "\n",
    "### patient 30\n",
    "masker30_nn=NiftiMasker(mask_img=image.index_img(mask, 29),smoothing_fwhm=8, memory='nilearn_cache', memory_level=1, standardize=False)\n",
    "data_masked30_nn=masker30_nn.fit_transform(dataset[29])\n",
    "\n",
    "### patient 31\n",
    "masker31_nn=NiftiMasker(mask_img=image.index_img(mask, 30),smoothing_fwhm=8, memory='nilearn_cache', memory_level=1, standardize=False)\n",
    "data_masked31_nn=masker31_nn.fit_transform(dataset[30])\n",
    "\n",
    "### patient 32\n",
    "masker32_nn=NiftiMasker(mask_img=image.index_img(mask, 31),smoothing_fwhm=8, memory='nilearn_cache', memory_level=1, standardize=False)\n",
    "data_masked32_nn=masker32_nn.fit_transform(dataset[31])\n",
    "\n",
    "### patient 33\n",
    "masker33_nn=NiftiMasker(mask_img=image.index_img(mask, 32),smoothing_fwhm=8, memory='nilearn_cache', memory_level=1, standardize=False)\n",
    "data_masked33_nn=masker33_nn.fit_transform(dataset[32])\n",
    "\n",
    "### patient 34\n",
    "masker34_nn=NiftiMasker(mask_img=image.index_img(mask, 33),smoothing_fwhm=8, memory='nilearn_cache', memory_level=1, standardize=False)\n",
    "data_masked34_nn=masker34_nn.fit_transform(dataset[33])\n",
    "\n",
    "### patient 35\n",
    "masker35_nn=NiftiMasker(mask_img=image.index_img(mask, 34),smoothing_fwhm=8, memory='nilearn_cache', memory_level=1, standardize=False)\n",
    "data_masked35_nn=masker35_nn.fit_transform(dataset[34])\n",
    "\n",
    "### patient 36\n",
    "masker36_nn=NiftiMasker(mask_img=image.index_img(mask, 35),smoothing_fwhm=8, memory='nilearn_cache', memory_level=1, standardize=False)\n",
    "data_masked36_nn=masker36_nn.fit_transform(dataset[35])\n",
    "\n",
    "### patient 37\n",
    "masker37_nn=NiftiMasker(mask_img=image.index_img(mask, 36),smoothing_fwhm=8, memory='nilearn_cache', memory_level=1, standardize=False)\n",
    "data_masked37_nn=masker37_nn.fit_transform(dataset[36])\n"
   ]
  },
  {
   "cell_type": "code",
   "execution_count": 10,
   "metadata": {
    "collapsed": true
   },
   "outputs": [],
   "source": [
    "#####SI TOUS LES PATIENTS\n",
    "############## ajouter les uns à la suite des autres+++\n",
    "X=np.concatenate((data_masked1,data_masked2,data_masked3,data_masked4,\n",
    "                 data_masked5,data_masked6,data_masked7,data_masked8,data_masked9,data_masked10,data_masked11,data_masked12,\n",
    "                 data_masked13,data_masked14,data_masked15,data_masked16,data_masked17,data_masked18,data_masked19,\n",
    "                 data_masked20,data_masked21,data_masked22,data_masked23,data_masked24,data_masked25,data_masked26,data_masked27,\n",
    "                 data_masked28,data_masked29,data_masked30,data_masked31,data_masked32,data_masked33,data_masked34,\n",
    "                 data_masked35,data_masked36,data_masked37),axis=1)\n",
    "\n",
    "if (X.shape[1]-np.sum(nb_voxel_mask))!=0 : \n",
    "    print(\"ATTENTION ERREUR MASKER\")"
   ]
  },
  {
   "cell_type": "code",
   "execution_count": 11,
   "metadata": {
    "collapsed": false
   },
   "outputs": [],
   "source": [
    "#####SI TOUS LES PATIENTS NON NORMALISES\n",
    "############## ajouter les uns à la suite des autres+++\n",
    "X_nn=np.concatenate((data_masked1_nn,data_masked2_nn,data_masked3_nn,data_masked4_nn,\n",
    "                 data_masked5_nn,data_masked6_nn,data_masked7_nn,data_masked8_nn,data_masked9_nn,data_masked10_nn,data_masked11_nn,data_masked12_nn,\n",
    "                 data_masked13_nn,data_masked14_nn,data_masked15_nn,data_masked16_nn,data_masked17_nn,data_masked18_nn,data_masked19_nn,\n",
    "                 data_masked20_nn,data_masked21_nn,data_masked22_nn,data_masked23_nn,data_masked24_nn,data_masked25_nn,data_masked26_nn,data_masked27_nn,\n",
    "                 data_masked28_nn,data_masked29_nn,data_masked30_nn,data_masked31_nn,data_masked32_nn,data_masked33_nn,data_masked34_nn,\n",
    "                 data_masked35_nn,data_masked36_nn,data_masked37_nn),axis=1)\n",
    "\n",
    "if (X_nn.shape[1]-np.sum(nb_voxel_mask))!=0 : \n",
    "    print(\"ATTENTION ERREUR MASKER\")"
   ]
  },
  {
   "cell_type": "code",
   "execution_count": 12,
   "metadata": {
    "collapsed": false
   },
   "outputs": [],
   "source": [
    "vox_ts=X.T\n",
    "vox_ts_nn=X_nn.T\n"
   ]
  },
  {
   "cell_type": "code",
   "execution_count": 15,
   "metadata": {
    "collapsed": false
   },
   "outputs": [
    {
     "data": {
      "text/plain": [
       "dtype('float64')"
      ]
     },
     "execution_count": 15,
     "metadata": {},
     "output_type": "execute_result"
    }
   ],
   "source": [
    "vox_ts.dtype"
   ]
  },
  {
   "cell_type": "code",
   "execution_count": 15,
   "metadata": {
    "collapsed": false
   },
   "outputs": [
    {
     "name": "stdout",
     "output_type": "stream",
     "text": [
      "1\n",
      "2\n",
      "3\n",
      "4\n",
      "5\n",
      "6\n",
      "7\n",
      "8\n"
     ]
    }
   ],
   "source": [
    "import random\n",
    "random.seed(0)\n",
    "centroids3_10,assignments3_10=k_means_clust(vox_ts,3,8)"
   ]
  },
  {
   "cell_type": "code",
   "execution_count": 18,
   "metadata": {
    "collapsed": false
   },
   "outputs": [],
   "source": []
  },
  {
   "cell_type": "code",
   "execution_count": 14,
   "metadata": {
    "collapsed": true
   },
   "outputs": [],
   "source": [
    "### centroids,assignments=centroids3_10,assignments3_10\n",
    "#centroids,assignments=centroids2_8,assignments2_8\n"
   ]
  },
  {
   "cell_type": "code",
   "execution_count": 15,
   "metadata": {
    "collapsed": true
   },
   "outputs": [],
   "source": [
    "centroids,assignments=centroids3_10,assignments3_10\n",
    "#centroids,assignments=centroids2_8,assignments2_8\n"
   ]
  },
  {
   "cell_type": "code",
   "execution_count": 16,
   "metadata": {
    "collapsed": true
   },
   "outputs": [],
   "source": [
    "#a=(0.49803921568627452, 0.78823529411764703, 0.49803921568627452)"
   ]
  },
  {
   "cell_type": "code",
   "execution_count": 17,
   "metadata": {
    "collapsed": false
   },
   "outputs": [],
   "source": [
    "###label\n",
    "labels=np.array(list((assignments.keys())))+1\n",
    "labels_name=['Courbe 1','Courbe 2','Courbe3']\n",
    "#labels=[(1,2,3)]\n",
    "###Colors\n",
    "colors = [(0.49803921568627452, 0.78823529411764703, 0.49803921568627452),(0.2196078431372549,  0.42352941176470588, 0.69019607843137254), (0.4, 0.4, 0.4 ),'#d62728']\n",
    "\n"
   ]
  },
  {
   "cell_type": "code",
   "execution_count": 18,
   "metadata": {
    "collapsed": true
   },
   "outputs": [],
   "source": [
    "#colors = [ (0.74509803921568629, 0.68235294117647061, 0.83137254901960789),(0.4, 0.4, 0.4 ),(0.49803921568627452, 0.78823529411764703, 0.49803921568627452)]\n"
   ]
  },
  {
   "cell_type": "code",
   "execution_count": 19,
   "metadata": {
    "collapsed": false
   },
   "outputs": [
    {
     "data": {
      "image/png": "[encoded data removed]",
      "text/plain": [
       "<matplotlib.figure.Figure at 0x10fc25eb8>"
      ]
     },
     "metadata": {},
     "output_type": "display_data"
    }
   ],
   "source": [
    "fig = plt.figure()\n",
    "fig.suptitle('Curves Shape', fontsize=14)\n",
    "ax = fig.add_subplot(111)\n",
    "plt.setp( ax.get_yticklabels(), visible=False)\n",
    "fig.subplots_adjust(top=0.85)\n",
    "ax.set_xlabel('Time Serie n°')\n",
    "ax.set_ylabel('Normalized Activity')\n",
    "ax.grid(False)\n",
    "ax.spines['bottom'].set_color('black')\n",
    "ax.spines['top'].set_color('black')\n",
    "ax.spines['left'].set_color('black')\n",
    "ax.spines['right'].set_color('black')\n",
    "\n",
    "for i,label,color in zip(centroids,assignments,colors):\n",
    "\n",
    "    ax.plot(np.arange(1,11),i,color=color)\n",
    "    plt.legend(('Curve #1','Curve #2','Curve #3'),prop={'size':17})\n",
    "\n",
    "plt.show()\n",
    "fig.savefig('Curves Intensity Shape.png')"
   ]
  },
  {
   "cell_type": "code",
   "execution_count": 20,
   "metadata": {
    "collapsed": false
   },
   "outputs": [],
   "source": [
    "### FIT EACH VOXEL WITH CURVE SHAPE\n",
    "min_MSE=np.repeat(np.nan,vox_ts.shape[0])\n",
    "for iter_test in range(0,(vox_ts.shape[0])):\n",
    "    min_dist=np.argmin(np.sum((vox_ts[iter_test]-centroids)**2,axis=1))\n",
    "    min_MSE[iter_test]=min_dist\n"
   ]
  },
  {
   "cell_type": "code",
   "execution_count": 16,
   "metadata": {
    "collapsed": false
   },
   "outputs": [
    {
     "ename": "NameError",
     "evalue": "name 'ArrayDicom' is not defined",
     "output_type": "error",
     "traceback": [
      "\u001b[0;31m---------------------------------------------------------------------------\u001b[0m",
      "\u001b[0;31mNameError\u001b[0m                                 Traceback (most recent call last)",
      "\u001b[0;32m<ipython-input-16-2c4b1189d750>\u001b[0m in \u001b[0;36m<module>\u001b[0;34m()\u001b[0m\n\u001b[0;32m----> 1\u001b[0;31m \u001b[0mk_mean_reshape\u001b[0m\u001b[0;34m=\u001b[0m\u001b[0mnp\u001b[0m\u001b[0;34m.\u001b[0m\u001b[0mreshape\u001b[0m\u001b[0;34m(\u001b[0m\u001b[0mArrayDicom\u001b[0m\u001b[0;34m,\u001b[0m\u001b[0;34m(\u001b[0m\u001b[0mArrayDicom\u001b[0m\u001b[0;34m.\u001b[0m\u001b[0mshape\u001b[0m\u001b[0;34m[\u001b[0m\u001b[0;36m0\u001b[0m\u001b[0;34m]\u001b[0m\u001b[0;34m,\u001b[0m\u001b[0mArrayDicom\u001b[0m\u001b[0;34m.\u001b[0m\u001b[0mshape\u001b[0m\u001b[0;34m[\u001b[0m\u001b[0;36m1\u001b[0m\u001b[0;34m]\u001b[0m\u001b[0;34m,\u001b[0m\u001b[0mArrayDicom\u001b[0m\u001b[0;34m.\u001b[0m\u001b[0mshape\u001b[0m\u001b[0;34m[\u001b[0m\u001b[0;36m2\u001b[0m\u001b[0;34m]\u001b[0m\u001b[0;34m)\u001b[0m\u001b[0;34m)\u001b[0m\u001b[0;34m\u001b[0m\u001b[0m\n\u001b[0m",
      "\u001b[0;31mNameError\u001b[0m: name 'ArrayDicom' is not defined"
     ]
    }
   ],
   "source": []
  },
  {
   "cell_type": "code",
   "execution_count": 21,
   "metadata": {
    "collapsed": false
   },
   "outputs": [],
   "source": [
    "###NE PAS FAIRE\n",
    "#min_MSE[min_MSE==0]=2\n",
    "#min_MSE[min_MSE==1]=0\n",
    "#min_MSE[min_MSE==2]=1\n"
   ]
  },
  {
   "cell_type": "code",
   "execution_count": 22,
   "metadata": {
    "collapsed": false
   },
   "outputs": [
    {
     "name": "stdout",
     "output_type": "stream",
     "text": [
      "1\n",
      "1.0\n"
     ]
    },
    {
     "data": {
      "image/png": "[encoded data removed]",
      "text/plain": [
       "<matplotlib.figure.Figure at 0x110c4d1d0>"
      ]
     },
     "metadata": {},
     "output_type": "display_data"
    }
   ],
   "source": [
    "fig = plt.figure()\n",
    "fig.suptitle('Curves Shape', fontsize=14)\n",
    "\n",
    "# VOXEL COURBE 1\n",
    "iter_test=1029\n",
    "min_dist=np.argmin(np.sum((vox_ts[iter_test]-centroids)**2,axis=1))\n",
    "print(min_dist+1)\n",
    "print(min_MSE[iter_test]+1)\n",
    "ax2 = fig.add_subplot(111)\n",
    "\n",
    "plt.setp( ax2.get_yticklabels(), visible=True)\n",
    "\n",
    "ax2.grid(False)\n",
    "ax2.spines['bottom'].set_color('black')\n",
    "ax2.spines['top'].set_color('black')\n",
    "ax2.spines['left'].set_color('black')\n",
    "ax2.spines['right'].set_color('black')\n",
    "plt.plot(np.arange(1,11),vox_ts[iter_test],color='black')\n",
    "plt.plot(np.arange(1,11),centroids[min_dist],color=colors[min_dist])\n",
    "plt.legend(['Dynamic PET','Fitted Curve 1'],prop={'size':17})\n",
    "plt.savefig('Curve1_Fitted.png')"
   ]
  },
  {
   "cell_type": "code",
   "execution_count": 23,
   "metadata": {
    "collapsed": false
   },
   "outputs": [
    {
     "name": "stdout",
     "output_type": "stream",
     "text": [
      "2\n",
      "2.0\n"
     ]
    },
    {
     "data": {
      "image/png": "[encoded data removed]",
      "text/plain": [
       "<matplotlib.figure.Figure at 0x110e13cf8>"
      ]
     },
     "metadata": {},
     "output_type": "display_data"
    }
   ],
   "source": [
    "fig = plt.figure()\n",
    "fig.suptitle('Curves Shape', fontsize=14)\n",
    "plt.setp( ax.get_yticklabels(), visible=True)\n",
    "\n",
    "# VOXEL COURBE 2\n",
    "iter_test=16000\n",
    "min_dist=np.argmin(np.sum((vox_ts[iter_test]-centroids)**2,axis=1))\n",
    "\n",
    "ax2 = fig.add_subplot(111)\n",
    "\n",
    "\n",
    "ax2.grid(False)\n",
    "ax2.spines['bottom'].set_color('black')\n",
    "ax2.spines['top'].set_color('black')\n",
    "ax2.spines['left'].set_color('black')\n",
    "ax2.spines['right'].set_color('black')\n",
    "\n",
    "print(min_dist+1)\n",
    "print(min_MSE[iter_test]+1)\n",
    "plt.plot(np.arange(1,11),vox_ts[iter_test],color='black')\n",
    "plt.plot(np.arange(1,11),centroids[min_dist],color=colors[min_dist])\n",
    "plt.legend(['Dynamic PET','Fitted Curve '+str(int(min_MSE[iter_test]+1))],prop={'size':17},loc='lower right')\n",
    "plt.savefig('Curve2_Fitted.png')"
   ]
  },
  {
   "cell_type": "code",
   "execution_count": 24,
   "metadata": {
    "collapsed": false
   },
   "outputs": [
    {
     "name": "stdout",
     "output_type": "stream",
     "text": [
      "3\n",
      "3.0\n"
     ]
    },
    {
     "data": {
      "image/png": "[encoded data removed]",
      "text/plain": [
       "<matplotlib.figure.Figure at 0x11102ef28>"
      ]
     },
     "metadata": {},
     "output_type": "display_data"
    }
   ],
   "source": [
    "fig = plt.figure()\n",
    "fig.suptitle('Curves Shape', fontsize=14)\n",
    "plt.setp( ax.get_yticklabels(), visible=True)\n",
    "\n",
    "# VOXEL COURBE 3\n",
    "iter_test=18100\n",
    "min_dist=np.argmin(np.sum((vox_ts[iter_test]-centroids)**2,axis=1))\n",
    "\n",
    "ax2 = fig.add_subplot(111)\n",
    "\n",
    "\n",
    "ax2.grid(False)\n",
    "ax2.spines['bottom'].set_color('black')\n",
    "ax2.spines['top'].set_color('black')\n",
    "ax2.spines['left'].set_color('black')\n",
    "ax2.spines['right'].set_color('black')\n",
    "\n",
    "print(min_dist+1)\n",
    "print(min_MSE[iter_test]+1)\n",
    "plt.plot(np.arange(1,11),vox_ts[iter_test],color='black')\n",
    "plt.plot(np.arange(1,11),centroids[min_dist],color=colors[min_dist])\n",
    "plt.legend(['Dynamic PET','Fitted Curve 3'],prop={'size':17},loc='upper right')\n",
    "plt.savefig('Curve3_Fitted.png')"
   ]
  },
  {
   "cell_type": "code",
   "execution_count": 25,
   "metadata": {
    "collapsed": false
   },
   "outputs": [
    {
     "name": "stderr",
     "output_type": "stream",
     "text": [
      "/Users/Paul/miniconda2/envs/python3/lib/python3.5/site-packages/matplotlib/cbook.py:136: MatplotlibDeprecationWarning: The axisbg attribute was deprecated in version 2.0. Use facecolor instead.\n",
      "  warnings.warn(message, mplDeprecation, stacklevel=1)\n"
     ]
    },
    {
     "data": {
      "image/png": "[encoded data removed]",
      "text/plain": [
       "<matplotlib.figure.Figure at 0x10347c4a8>"
      ]
     },
     "metadata": {},
     "output_type": "display_data"
    }
   ],
   "source": [
    "idx=8\n",
    "vox_i=l_patient_long==idx\n",
    "p_idx_cv=min_MSE[vox_i]+1\n",
    "p_idx_cv_img = masker8.inverse_transform(p_idx_cv)\n",
    "fig=plotting.plot_roi(p_idx_cv_img,cmap='Accent',annotate=False,draw_cross=False,cut_coords=(-18,-10,-22))\n",
    "fig.savefig('p8IDHpos.png')\n",
    "p_idx_cv_img.to_filename('../dynamique/p'+str(idx)+'/results/p_'+str(idx)+'_cluster.nii')\n",
    "p_idx_cv_img.to_filename('../dynamique/p'+str(idx)+'/results/p_'+str(idx)+'_cluster.nii')\n"
   ]
  },
  {
   "cell_type": "code",
   "execution_count": 26,
   "metadata": {
    "collapsed": false
   },
   "outputs": [
    {
     "name": "stderr",
     "output_type": "stream",
     "text": [
      "/Users/Paul/miniconda2/envs/python3/lib/python3.5/site-packages/numpy/lib/function_base.py:3569: RuntimeWarning: Invalid value encountered in median\n",
      "  RuntimeWarning)\n",
      "/Users/Paul/miniconda2/envs/python3/lib/python3.5/site-packages/nilearn/plotting/img_plotting.py:141: UserWarning: NaN is not permitted for the vmax and vmin arguments.\n",
      "Tip: Use np.nan_max() instead of np.max().\n",
      "  warnings.warn(nan_msg)\n",
      "/Users/Paul/miniconda2/envs/python3/lib/python3.5/site-packages/matplotlib/cbook.py:136: MatplotlibDeprecationWarning: The axisbg attribute was deprecated in version 2.0. Use facecolor instead.\n",
      "  warnings.warn(message, mplDeprecation, stacklevel=1)\n"
     ]
    },
    {
     "data": {
      "image/png": "[encoded data removed]",
      "text/plain": [
       "<matplotlib.figure.Figure at 0x1111f2080>"
      ]
     },
     "metadata": {},
     "output_type": "display_data"
    }
   ],
   "source": [
    "mean_img=nilearn.image.load_img('../dynamique/p'+str(idx)+'/preprocessing/mean_image_p'+str(idx)+'.nii')\n",
    "fig=plotting.plot_anat(mean_img, display_mode='ortho',cut_coords=(-18,-10,-22),annotate=False,draw_cross=False)\n",
    "fig.savefig('p8.png')\n"
   ]
  },
  {
   "cell_type": "code",
   "execution_count": 27,
   "metadata": {
    "collapsed": false
   },
   "outputs": [
    {
     "name": "stderr",
     "output_type": "stream",
     "text": [
      "/Users/Paul/miniconda2/envs/python3/lib/python3.5/site-packages/ipykernel/__main__.py:7: VisibleDeprecationWarning: using a non-integer number instead of an integer will result in an error in the future\n"
     ]
    }
   ],
   "source": [
    "ls_patient_cat=[]\n",
    "for iter_patient in np.unique(l_patient):\n",
    "    vox_i=l_patient_long==iter_patient\n",
    "    p_iter=min_MSE[vox_i]\n",
    "    nb_cat_p_i=np.repeat(np.nan,len(np.unique(min_MSE)))\n",
    "    for cat_num in list(np.unique(min_MSE)):\n",
    "        nb_cat_p_i[cat_num]=(np.sum(p_iter==cat_num))\n",
    "    ls_patient_cat.append(nb_cat_p_i)\n",
    "ls_patient_cat=np.array(ls_patient_cat)"
   ]
  },
  {
   "cell_type": "code",
   "execution_count": null,
   "metadata": {
    "collapsed": false
   },
   "outputs": [],
   "source": []
  },
  {
   "cell_type": "code",
   "execution_count": 28,
   "metadata": {
    "collapsed": false
   },
   "outputs": [
    {
     "name": "stderr",
     "output_type": "stream",
     "text": [
      "/Users/Paul/miniconda2/envs/python3/lib/python3.5/site-packages/sklearn/preprocessing/data.py:160: UserWarning: Numerical issues were encountered when centering the data and might not be solved. Dataset may contain too large values. You may need to prescale your features.\n",
      "  warnings.warn(\"Numerical issues were encountered \"\n"
     ]
    }
   ],
   "source": [
    "#### Recup Pour chaque patient la courbe : comme si ROI sur toute la tumeur\n",
    "TAC_p_all=[]\n",
    "for iter_patient in np.unique(l_patient):\n",
    "    vox_i=l_patient_long==iter_patient\n",
    "    TAC_p_all.append(np.sum(vox_ts_nn[vox_i],axis=0))\n",
    "TAC_p_all=np.array(TAC_p_all)\n",
    "from sklearn import preprocessing\n",
    "scale_TAC_p_all=preprocessing.scale(TAC_p_all,axis=1)\n",
    "\n",
    "\n",
    "min_MSE_TAC_all=np.repeat(np.nan,scale_TAC_p_all.shape[0])\n",
    "for iter_test in range(0,(scale_TAC_p_all.shape[0])):\n",
    "    min_dist=np.argmin(np.sum((scale_TAC_p_all[iter_test]-centroids)**2,axis=1))\n",
    "    min_MSE_TAC_all[iter_test]=min_dist+1\n"
   ]
  },
  {
   "cell_type": "code",
   "execution_count": 29,
   "metadata": {
    "collapsed": false
   },
   "outputs": [
    {
     "name": "stdout",
     "output_type": "stream",
     "text": [
      "1\n",
      "1.0\n"
     ]
    },
    {
     "data": {
      "text/plain": [
       "<matplotlib.legend.Legend at 0x14d27d1d0>"
      ]
     },
     "execution_count": 29,
     "metadata": {},
     "output_type": "execute_result"
    },
    {
     "data": {
      "image/png": "[encoded data removed]",
      "text/plain": [
       "<matplotlib.figure.Figure at 0x113d4e3c8>"
      ]
     },
     "metadata": {},
     "output_type": "display_data"
    }
   ],
   "source": [
    "# VOXEL COURBE 1\n",
    "iter_test=0\n",
    "min_dist=np.argmin(np.sum((scale_TAC_p_all[iter_test]-centroids)**2,axis=1))\n",
    "print(min_dist+1)\n",
    "print(min_MSE_TAC_all[iter_test])\n",
    "plt.plot(np.arange(1,11),scale_TAC_p_all[iter_test],color='black')\n",
    "plt.plot(np.arange(1,11),centroids[min_dist],color=colors[min_dist])\n",
    "plt.legend(['Dynamic PET','Fitted Curve 1'])\n"
   ]
  },
  {
   "cell_type": "code",
   "execution_count": 30,
   "metadata": {
    "collapsed": true
   },
   "outputs": [],
   "source": [
    "##\n",
    "subcat=pd.DataFrame(ls_patient_cat)\n",
    "subcat.columns=['courbe1','courbe2','courbe3']\n",
    "subcat.fillna(0)\n",
    "subcat['volume']=subcat.courbe1+subcat.courbe2+subcat.courbe3\n",
    "subcat['prop1']=subcat.courbe1/subcat.volume\n",
    "subcat['prop2']=subcat.courbe2/subcat.volume\n",
    "subcat['prop3']=subcat.courbe3/subcat.volume"
   ]
  },
  {
   "cell_type": "code",
   "execution_count": 31,
   "metadata": {
    "collapsed": false
   },
   "outputs": [
    {
     "name": "stderr",
     "output_type": "stream",
     "text": [
      "/Users/Paul/miniconda2/envs/python3/lib/python3.5/site-packages/openpyxl/reader/worksheet.py:307: UserWarning: Unknown extension is not supported and will be removed\n",
      "  warn(msg)\n"
     ]
    }
   ],
   "source": [
    "import openpyxl\n",
    "import seaborn as sb\n",
    "from openpyxl import load_workbook\n",
    "wb = load_workbook(filename='/Users/Paul/Documents/articles/Perso/FET_dyn_IDH/Status_survival.xlsx')\n",
    "ws=wb.active\n",
    "df = pd.DataFrame(ws.values)\n",
    "new_header = df.iloc[0] #grab the first row for the header\n",
    "df = df[1:] #take the data less the header row\n",
    "df=pd.DataFrame(df,dtype=float)\n",
    "\n",
    "output=df.rename(columns = new_header)\n",
    "output.index=range(0,37)\n",
    "\n",
    "\n",
    "all_dat=pd.concat([output,subcat],axis=1)\n"
   ]
  },
  {
   "cell_type": "code",
   "execution_count": 32,
   "metadata": {
    "collapsed": true
   },
   "outputs": [],
   "source": [
    "### Defini tous les activites / SUV initiaux / finaux totaux\n",
    "\n",
    "###  FINAL\n",
    "activite_sum_all=np.sum(vox_ts_nn[:,7:10],axis=1)\n",
    "ls_activite_mean=[]\n",
    "for iter_patient in np.unique(l_patient):\n",
    "    vox_i=l_patient_long==iter_patient\n",
    "    p_iter=activite_sum_all[vox_i]\n",
    "    ls_activite_mean.append(np.mean(p_iter))\n",
    "ls_activite_mean=np.array(ls_activite_mean)\n",
    "all_dat['mean_7_10_activity']=ls_activite_mean\n",
    "\n",
    "activite_sum_all=np.sum(vox_ts_nn[:,7:10],axis=1)\n",
    "ls_activite_mean=[]\n",
    "for iter_patient in np.unique(l_patient):\n",
    "    vox_i=l_patient_long==iter_patient\n",
    "    p_iter=activite_sum_all[vox_i]\n",
    "    ls_activite_mean.append(np.max(p_iter))\n",
    "ls_activite_mean=np.array(ls_activite_mean)\n",
    "all_dat['max_7_10_activity']=ls_activite_mean\n",
    "\n",
    "## ALL \n",
    "activite_sum_all=np.sum(vox_ts_nn[:,0:10],axis=1)\n",
    "ls_activite_mean=[]\n",
    "for iter_patient in np.unique(l_patient):\n",
    "    vox_i=l_patient_long==iter_patient\n",
    "    p_iter=activite_sum_all[vox_i]\n",
    "    ls_activite_mean.append(np.mean(p_iter))\n",
    "ls_activite_mean=np.array(ls_activite_mean)\n",
    "all_dat['mean_all_activity']=ls_activite_mean\n",
    "\n",
    "activite_sum_all=np.sum(vox_ts_nn[:,0:10],axis=1)\n",
    "ls_activite_mean=[]\n",
    "for iter_patient in np.unique(l_patient):\n",
    "    vox_i=l_patient_long==iter_patient\n",
    "    p_iter=activite_sum_all[vox_i]\n",
    "    ls_activite_mean.append(np.max(p_iter))\n",
    "ls_activite_mean=np.array(ls_activite_mean)\n",
    "all_dat['max_all_activity']=ls_activite_mean\n",
    "\n",
    "## Initial \n",
    "activite_sum_all=np.sum(vox_ts_nn[:,0:3],axis=1)\n",
    "ls_activite_mean=[]\n",
    "for iter_patient in np.unique(l_patient):\n",
    "    vox_i=l_patient_long==iter_patient\n",
    "    p_iter=activite_sum_all[vox_i]\n",
    "    ls_activite_mean.append(np.mean(p_iter))\n",
    "ls_activite_mean=np.array(ls_activite_mean)\n",
    "all_dat['mean_0_3_activity']=ls_activite_mean\n",
    "\n",
    "activite_sum_all=np.sum(vox_ts_nn[:,0:3],axis=1)\n",
    "ls_activite_mean=[]\n",
    "for iter_patient in np.unique(l_patient):\n",
    "    vox_i=l_patient_long==iter_patient\n",
    "    p_iter=activite_sum_all[vox_i]\n",
    "    ls_activite_mean.append(np.max(p_iter))\n",
    "ls_activite_mean=np.array(ls_activite_mean)\n",
    "all_dat['max_0_3_activity']=ls_activite_mean\n",
    "\n",
    "all_dat['SUVmean_all']=all_dat['mean_all_activity']/all_dat['activity']/all_dat['body_weight']\n",
    "all_dat['SUVmax_all']=all_dat['max_all_activity']/all_dat['activity']/all_dat['body_weight']\n",
    "all_dat['SUVmean_0_3']=all_dat['mean_0_3_activity']/all_dat['activity']/all_dat['body_weight']\n",
    "all_dat['SUVmax_0_3']=all_dat['max_0_3_activity']/all_dat['activity']/all_dat['body_weight']\n",
    "all_dat['SUVmean_7_10']=all_dat['mean_7_10_activity']/all_dat['activity']/all_dat['body_weight']\n",
    "all_dat['SUVmax_7_10']=all_dat['max_7_10_activity']/all_dat['activity']/all_dat['body_weight']"
   ]
  },
  {
   "cell_type": "code",
   "execution_count": 33,
   "metadata": {
    "collapsed": false
   },
   "outputs": [
    {
     "data": {
      "image/png": "[encoded data removed]",
      "text/plain": [
       "<matplotlib.figure.Figure at 0x14f9de080>"
      ]
     },
     "metadata": {},
     "output_type": "display_data"
    }
   ],
   "source": [
    "## a l'echelle du voxel : IDH et activite ?\n",
    "IDH_long=np.array(np.repeat(all_dat.IDH,nb_voxel_mask)[:])\n",
    "IDH_mean=pd.DataFrame(IDH_long,columns=['IDH'])\n",
    "IDH_mean['activite_sum']=np.array(np.sum(vox_ts_nn[:,0:10],axis=1))\n",
    "IDH_mean['courbe_vox']=min_MSE\n",
    "IDH_mean['patient']=l_patient_long\n",
    "ax=sb.boxplot(y=IDH_mean.activite_sum,x='courbe_vox',hue='IDH',data=IDH_mean,)\n",
    "ax.get_figure().savefig('activity_IDH_curve.png')\n",
    "ax.grid(False)"
   ]
  },
  {
   "cell_type": "code",
   "execution_count": 63,
   "metadata": {
    "collapsed": false
   },
   "outputs": [],
   "source": [
    "df_vox_ts_nn=pd.DataFrame(vox_ts_nn)\n",
    "df_vox_ts_nn['patient']=l_patient_long\n",
    "whole_tumor_TAC_patient=df_vox_ts_nn.groupby('patient').sum()\n",
    "whole_tumor_TAC_patient=np.array(whole_tumor_TAC_patient)"
   ]
  },
  {
   "cell_type": "code",
   "execution_count": 65,
   "metadata": {
    "collapsed": false
   },
   "outputs": [
    {
     "data": {
      "text/plain": [
       "array([ 5617087.11032934,  7681295.7077142 ,  8557013.79656202,\n",
       "        8908194.26383018,  8794586.2328743 ,  8824904.34778671,\n",
       "        8615105.84455971,  8429979.42651351,  8095144.04046503,\n",
       "        7886232.29568886])"
      ]
     },
     "execution_count": 65,
     "metadata": {},
     "output_type": "execute_result"
    }
   ],
   "source": [
    "whole_tumor_TAC_patient[0]"
   ]
  },
  {
   "cell_type": "code",
   "execution_count": 66,
   "metadata": {
    "collapsed": false
   },
   "outputs": [],
   "source": [
    "### FIT EACH PATIENT WITH CURVE SHAPE\n",
    "cat_TAC_whole_tumor=np.repeat(np.nan,whole_tumor_TAC_patient.shape[0])\n",
    "for iter_test in range(0,(whole_tumor_TAC_patient.shape[0])):\n",
    "    min_dist=np.argmin(np.sum((whole_tumor_TAC_patient[iter_test]-centroids)**2,axis=1))\n",
    "    cat_TAC_whole_tumor[iter_test]=min_dist\n"
   ]
  },
  {
   "cell_type": "code",
   "execution_count": 67,
   "metadata": {
    "collapsed": false
   },
   "outputs": [
    {
     "data": {
      "text/plain": [
       "array([ 0.,  2.,  2.,  1.,  1.,  0.,  0.,  1.,  2.,  0.,  0.,  0.,  1.,\n",
       "        0.,  0.,  1.,  1.,  0.,  1.,  1.,  2.,  0.,  2.,  2.,  0.,  0.,\n",
       "        1.,  1.,  1.,  1.,  1.,  0.,  1.,  1.,  1.,  1.,  1.])"
      ]
     },
     "execution_count": 67,
     "metadata": {},
     "output_type": "execute_result"
    }
   ],
   "source": []
  },
  {
   "cell_type": "code",
   "execution_count": 36,
   "metadata": {
    "collapsed": false
   },
   "outputs": [
    {
     "data": {
      "image/png": "[encoded data removed]",
      "text/plain": [
       "<matplotlib.figure.Figure at 0x1112fed30>"
      ]
     },
     "metadata": {},
     "output_type": "display_data"
    }
   ],
   "source": [
    "import seaborn as sb\n",
    "sb.set_style(\"whitegrid\")\n",
    "ax = sb.boxplot(y='prop1',x='IDH',data=all_dat, palette=\"Set3\",width=0.3)\n",
    "ax = sb.swarmplot(y='prop1',x='IDH',data=all_dat, color='.25')\n",
    "\n",
    "plt.xticks(plt.xticks()[0], ('IDH wild-type','IDH mutant'))\n",
    "ax.set(ylim=(-0.01,1.1))\n",
    "ax.set(ylabel='Tumoral proportion of curve 1')\n",
    "\n",
    "ax.set(xlabel='IDH mutational status')\n",
    "ax.get_figure().savefig('prop1.png')\n",
    "#0.132704266586\n"
   ]
  },
  {
   "cell_type": "code",
   "execution_count": 37,
   "metadata": {
    "collapsed": false
   },
   "outputs": [
    {
     "data": {
      "image/png": "[encoded data removed]",
      "text/plain": [
       "<matplotlib.figure.Figure at 0x14df584a8>"
      ]
     },
     "metadata": {},
     "output_type": "display_data"
    }
   ],
   "source": [
    "sb.set_style(\"whitegrid\")\n",
    "ax = sb.boxplot(y='prop1',x='del1p19q',data=all_dat, palette=\"Set3\",width=0.3)\n",
    "ax = sb.swarmplot(y='prop1',x='del1p19q',data=all_dat, color='.25')\n",
    "\n",
    "plt.xticks(plt.xticks()[0], ('No deletion','del1p19q'))\n",
    "ax.set(ylim=(-0.01,1.1))\n",
    "ax.set(ylabel='Tumoral proportion of curve 1')\n",
    "\n",
    "ax.set(xlabel='IDH mutational status')\n",
    "ax.get_figure().savefig('prop1del1p.png')\n",
    "#0.132704266586"
   ]
  },
  {
   "cell_type": "code",
   "execution_count": 38,
   "metadata": {
    "collapsed": false
   },
   "outputs": [
    {
     "data": {
      "image/png": "[encoded data removed]",
      "text/plain": [
       "<matplotlib.figure.Figure at 0x14f9ae8d0>"
      ]
     },
     "metadata": {},
     "output_type": "display_data"
    }
   ],
   "source": [
    "ax = sb.boxplot(y='prop2',x='IDH',data=all_dat, palette=\"Set3\",width=0.3)\n",
    "ax = sb.swarmplot(y='prop2',x='IDH',data=all_dat, color='.25')\n",
    "\n",
    "plt.xticks(plt.xticks()[0], ('IDH wild-type','IDH mutant'))\n",
    "ax.set(ylim=(-0.01,1.1))\n",
    "ax.set(ylabel='Tumoral proportion of curve 2')\n",
    "\n",
    "ax.set(xlabel='IDH mutational status')\n",
    "ax.get_figure().savefig('prop2.png')\n",
    "#pval=0.0159596013583\n"
   ]
  },
  {
   "cell_type": "code",
   "execution_count": 39,
   "metadata": {
    "collapsed": false
   },
   "outputs": [
    {
     "data": {
      "image/png": "[encoded data removed]",
      "text/plain": [
       "<matplotlib.figure.Figure at 0x14d68a128>"
      ]
     },
     "metadata": {},
     "output_type": "display_data"
    }
   ],
   "source": [
    "sb.set_style(\"whitegrid\")\n",
    "ax = sb.boxplot(y='prop2',x='del1p19q',data=all_dat, palette=\"Set3\",width=0.3)\n",
    "ax = sb.swarmplot(y='prop2',x='del1p19q',data=all_dat, color='.25')\n",
    "\n",
    "plt.xticks(plt.xticks()[0], ('No deletion','del1p19q'))\n",
    "ax.set(ylim=(-0.01,1.1))\n",
    "ax.set(ylabel='Tumoral proportion of curve 1')\n",
    "\n",
    "ax.set(xlabel='IDH mutational status')\n",
    "ax.get_figure().savefig('prop2del1p.png')\n"
   ]
  },
  {
   "cell_type": "code",
   "execution_count": 40,
   "metadata": {
    "collapsed": false
   },
   "outputs": [
    {
     "data": {
      "image/png": "[encoded data removed]",
      "text/plain": [
       "<matplotlib.figure.Figure at 0x111206588>"
      ]
     },
     "metadata": {},
     "output_type": "display_data"
    }
   ],
   "source": [
    "ax = sb.boxplot(y='prop3',x='IDH',data=all_dat, palette=\"Set3\",width=0.3)\n",
    "ax = sb.swarmplot(y='prop3',x='IDH',data=all_dat, color='.25')\n",
    "\n",
    "plt.xticks(plt.xticks()[0], ('IDH wild-type','IDH mutant'))\n",
    "ax.set(ylim=(-0.01,1.1))\n",
    "ax.set(ylabel='Tumoral proportion of curve 3')\n",
    "\n",
    "ax.set(xlabel='IDH mutational status')\n",
    "ax.grid(False)\n",
    "ax.get_figure().savefig('prop3.png')\n",
    "#0.00889942619359"
   ]
  },
  {
   "cell_type": "code",
   "execution_count": 41,
   "metadata": {
    "collapsed": false
   },
   "outputs": [
    {
     "data": {
      "image/png": "[encoded data removed]",
      "text/plain": [
       "<matplotlib.figure.Figure at 0x14fa9d7f0>"
      ]
     },
     "metadata": {},
     "output_type": "display_data"
    }
   ],
   "source": [
    "sb.set_style(\"whitegrid\")\n",
    "ax = sb.boxplot(y='prop3',x='del1p19q',data=all_dat, palette=\"Set3\",width=0.3)\n",
    "ax = sb.swarmplot(y='prop3',x='del1p19q',data=all_dat, color='.25')\n",
    "\n",
    "plt.xticks(plt.xticks()[0], ('No deletion','del1p19q'))\n",
    "ax.set(ylim=(-0.01,1.1))\n",
    "ax.set(ylabel='Tumoral proportion of curve 1')\n",
    "\n",
    "ax.set(xlabel='IDH mutational status')\n",
    "ax.get_figure().savefig('prop3del1p.png')\n",
    "#0.132704266586"
   ]
  },
  {
   "cell_type": "code",
   "execution_count": 42,
   "metadata": {
    "collapsed": false
   },
   "outputs": [],
   "source": [
    "IDH_mute=all_dat[all_dat.IDH==1]\n",
    "IDH_non_mute=all_dat[all_dat.IDH==0]"
   ]
  },
  {
   "cell_type": "code",
   "execution_count": 43,
   "metadata": {
    "collapsed": false
   },
   "outputs": [
    {
     "data": {
      "text/html": [
       "<div>\n",
       "<table border=\"1\" class=\"dataframe\">\n",
       "  <thead>\n",
       "    <tr style=\"text-align: right;\">\n",
       "      <th></th>\n",
       "      <th>IDH</th>\n",
       "      <th>del1p19q</th>\n",
       "      <th>PFS</th>\n",
       "      <th>machine</th>\n",
       "      <th>DureePFS</th>\n",
       "      <th>OS</th>\n",
       "      <th>DureeOS</th>\n",
       "      <th>activity</th>\n",
       "      <th>body_weight</th>\n",
       "      <th>grade</th>\n",
       "      <th>...</th>\n",
       "      <th>mean_all_activity</th>\n",
       "      <th>max_all_activity</th>\n",
       "      <th>mean_0_3_activity</th>\n",
       "      <th>max_0_3_activity</th>\n",
       "      <th>SUVmean_all</th>\n",
       "      <th>SUVmax_all</th>\n",
       "      <th>SUVmean_0_3</th>\n",
       "      <th>SUVmax_0_3</th>\n",
       "      <th>SUVmean_7_10</th>\n",
       "      <th>SUVmax_7_10</th>\n",
       "    </tr>\n",
       "  </thead>\n",
       "  <tbody>\n",
       "    <tr>\n",
       "      <th>0</th>\n",
       "      <td>1.0</td>\n",
       "      <td>1.0</td>\n",
       "      <td>1.0</td>\n",
       "      <td>1.0</td>\n",
       "      <td>48.266667</td>\n",
       "      <td>0.0</td>\n",
       "      <td>56.900000</td>\n",
       "      <td>218.0</td>\n",
       "      <td>79.0</td>\n",
       "      <td>2.0</td>\n",
       "      <td>...</td>\n",
       "      <td>38292.353277</td>\n",
       "      <td>66423.190335</td>\n",
       "      <td>10280.054852</td>\n",
       "      <td>18901.710099</td>\n",
       "      <td>2.223456</td>\n",
       "      <td>3.856880</td>\n",
       "      <td>0.596914</td>\n",
       "      <td>1.097533</td>\n",
       "      <td>0.666722</td>\n",
       "      <td>1.080295</td>\n",
       "    </tr>\n",
       "    <tr>\n",
       "      <th>4</th>\n",
       "      <td>1.0</td>\n",
       "      <td>NaN</td>\n",
       "      <td>1.0</td>\n",
       "      <td>1.0</td>\n",
       "      <td>37.566667</td>\n",
       "      <td>0.0</td>\n",
       "      <td>37.566667</td>\n",
       "      <td>220.0</td>\n",
       "      <td>77.0</td>\n",
       "      <td>2.0</td>\n",
       "      <td>...</td>\n",
       "      <td>35882.622545</td>\n",
       "      <td>45965.247453</td>\n",
       "      <td>8488.071859</td>\n",
       "      <td>10988.459781</td>\n",
       "      <td>2.118219</td>\n",
       "      <td>2.713415</td>\n",
       "      <td>0.501067</td>\n",
       "      <td>0.648669</td>\n",
       "      <td>0.709741</td>\n",
       "      <td>0.928613</td>\n",
       "    </tr>\n",
       "    <tr>\n",
       "      <th>7</th>\n",
       "      <td>1.0</td>\n",
       "      <td>1.0</td>\n",
       "      <td>0.0</td>\n",
       "      <td>1.0</td>\n",
       "      <td>35.966667</td>\n",
       "      <td>0.0</td>\n",
       "      <td>35.966667</td>\n",
       "      <td>212.0</td>\n",
       "      <td>72.0</td>\n",
       "      <td>3.0</td>\n",
       "      <td>...</td>\n",
       "      <td>46419.725355</td>\n",
       "      <td>58576.957187</td>\n",
       "      <td>10390.375008</td>\n",
       "      <td>15902.399294</td>\n",
       "      <td>3.041125</td>\n",
       "      <td>3.837589</td>\n",
       "      <td>0.680711</td>\n",
       "      <td>1.041824</td>\n",
       "      <td>1.086553</td>\n",
       "      <td>1.405986</td>\n",
       "    </tr>\n",
       "    <tr>\n",
       "      <th>9</th>\n",
       "      <td>1.0</td>\n",
       "      <td>NaN</td>\n",
       "      <td>1.0</td>\n",
       "      <td>1.0</td>\n",
       "      <td>10.766667</td>\n",
       "      <td>1.0</td>\n",
       "      <td>24.633333</td>\n",
       "      <td>173.0</td>\n",
       "      <td>80.0</td>\n",
       "      <td>3.0</td>\n",
       "      <td>...</td>\n",
       "      <td>30161.230241</td>\n",
       "      <td>35605.271595</td>\n",
       "      <td>8269.479007</td>\n",
       "      <td>9583.114898</td>\n",
       "      <td>2.179280</td>\n",
       "      <td>2.572635</td>\n",
       "      <td>0.597506</td>\n",
       "      <td>0.692422</td>\n",
       "      <td>0.666921</td>\n",
       "      <td>0.795955</td>\n",
       "    </tr>\n",
       "    <tr>\n",
       "      <th>12</th>\n",
       "      <td>1.0</td>\n",
       "      <td>1.0</td>\n",
       "      <td>0.0</td>\n",
       "      <td>1.0</td>\n",
       "      <td>14.400000</td>\n",
       "      <td>0.0</td>\n",
       "      <td>14.400000</td>\n",
       "      <td>231.0</td>\n",
       "      <td>60.0</td>\n",
       "      <td>2.0</td>\n",
       "      <td>...</td>\n",
       "      <td>38648.792775</td>\n",
       "      <td>54459.324393</td>\n",
       "      <td>8783.081644</td>\n",
       "      <td>12209.418360</td>\n",
       "      <td>2.788513</td>\n",
       "      <td>3.929244</td>\n",
       "      <td>0.633700</td>\n",
       "      <td>0.880910</td>\n",
       "      <td>0.980148</td>\n",
       "      <td>1.403221</td>\n",
       "    </tr>\n",
       "    <tr>\n",
       "      <th>14</th>\n",
       "      <td>1.0</td>\n",
       "      <td>1.0</td>\n",
       "      <td>1.0</td>\n",
       "      <td>1.0</td>\n",
       "      <td>40.966667</td>\n",
       "      <td>0.0</td>\n",
       "      <td>40.966667</td>\n",
       "      <td>245.0</td>\n",
       "      <td>60.0</td>\n",
       "      <td>2.0</td>\n",
       "      <td>...</td>\n",
       "      <td>57859.243483</td>\n",
       "      <td>91420.786940</td>\n",
       "      <td>16611.406806</td>\n",
       "      <td>27342.705977</td>\n",
       "      <td>3.936003</td>\n",
       "      <td>6.219101</td>\n",
       "      <td>1.130028</td>\n",
       "      <td>1.860048</td>\n",
       "      <td>1.147693</td>\n",
       "      <td>1.968841</td>\n",
       "    </tr>\n",
       "    <tr>\n",
       "      <th>16</th>\n",
       "      <td>1.0</td>\n",
       "      <td>NaN</td>\n",
       "      <td>1.0</td>\n",
       "      <td>1.0</td>\n",
       "      <td>8.966667</td>\n",
       "      <td>1.0</td>\n",
       "      <td>8.966667</td>\n",
       "      <td>219.0</td>\n",
       "      <td>82.0</td>\n",
       "      <td>2.0</td>\n",
       "      <td>...</td>\n",
       "      <td>29135.770436</td>\n",
       "      <td>32597.274447</td>\n",
       "      <td>7961.314643</td>\n",
       "      <td>9219.402385</td>\n",
       "      <td>1.622440</td>\n",
       "      <td>1.815195</td>\n",
       "      <td>0.443330</td>\n",
       "      <td>0.513387</td>\n",
       "      <td>0.514354</td>\n",
       "      <td>0.568261</td>\n",
       "    </tr>\n",
       "    <tr>\n",
       "      <th>19</th>\n",
       "      <td>1.0</td>\n",
       "      <td>1.0</td>\n",
       "      <td>0.0</td>\n",
       "      <td>2.0</td>\n",
       "      <td>79.533333</td>\n",
       "      <td>0.0</td>\n",
       "      <td>82.566667</td>\n",
       "      <td>215.0</td>\n",
       "      <td>70.0</td>\n",
       "      <td>4.0</td>\n",
       "      <td>...</td>\n",
       "      <td>23675.612669</td>\n",
       "      <td>33805.047337</td>\n",
       "      <td>5419.590054</td>\n",
       "      <td>8803.416050</td>\n",
       "      <td>1.573130</td>\n",
       "      <td>2.246183</td>\n",
       "      <td>0.360106</td>\n",
       "      <td>0.584945</td>\n",
       "      <td>0.551993</td>\n",
       "      <td>0.744701</td>\n",
       "    </tr>\n",
       "    <tr>\n",
       "      <th>20</th>\n",
       "      <td>1.0</td>\n",
       "      <td>1.0</td>\n",
       "      <td>0.0</td>\n",
       "      <td>2.0</td>\n",
       "      <td>72.766667</td>\n",
       "      <td>0.0</td>\n",
       "      <td>76.700000</td>\n",
       "      <td>210.0</td>\n",
       "      <td>82.0</td>\n",
       "      <td>3.0</td>\n",
       "      <td>...</td>\n",
       "      <td>29653.710021</td>\n",
       "      <td>44741.751448</td>\n",
       "      <td>8958.461362</td>\n",
       "      <td>14751.434560</td>\n",
       "      <td>1.722051</td>\n",
       "      <td>2.598243</td>\n",
       "      <td>0.520236</td>\n",
       "      <td>0.856645</td>\n",
       "      <td>0.496650</td>\n",
       "      <td>0.712100</td>\n",
       "    </tr>\n",
       "    <tr>\n",
       "      <th>21</th>\n",
       "      <td>1.0</td>\n",
       "      <td>NaN</td>\n",
       "      <td>0.0</td>\n",
       "      <td>2.0</td>\n",
       "      <td>73.000000</td>\n",
       "      <td>0.0</td>\n",
       "      <td>73.000000</td>\n",
       "      <td>220.0</td>\n",
       "      <td>96.0</td>\n",
       "      <td>3.0</td>\n",
       "      <td>...</td>\n",
       "      <td>23335.702844</td>\n",
       "      <td>32949.656008</td>\n",
       "      <td>6286.574329</td>\n",
       "      <td>9350.642503</td>\n",
       "      <td>1.104910</td>\n",
       "      <td>1.560116</td>\n",
       "      <td>0.297660</td>\n",
       "      <td>0.442739</td>\n",
       "      <td>0.337985</td>\n",
       "      <td>0.497381</td>\n",
       "    </tr>\n",
       "    <tr>\n",
       "      <th>26</th>\n",
       "      <td>1.0</td>\n",
       "      <td>1.0</td>\n",
       "      <td>0.0</td>\n",
       "      <td>1.0</td>\n",
       "      <td>8.566667</td>\n",
       "      <td>0.0</td>\n",
       "      <td>8.566667</td>\n",
       "      <td>215.0</td>\n",
       "      <td>63.0</td>\n",
       "      <td>2.0</td>\n",
       "      <td>...</td>\n",
       "      <td>44755.101705</td>\n",
       "      <td>67934.057579</td>\n",
       "      <td>10413.782113</td>\n",
       "      <td>15712.244167</td>\n",
       "      <td>3.304179</td>\n",
       "      <td>5.015434</td>\n",
       "      <td>0.768829</td>\n",
       "      <td>1.160003</td>\n",
       "      <td>1.138923</td>\n",
       "      <td>1.733329</td>\n",
       "    </tr>\n",
       "    <tr>\n",
       "      <th>27</th>\n",
       "      <td>1.0</td>\n",
       "      <td>1.0</td>\n",
       "      <td>0.0</td>\n",
       "      <td>1.0</td>\n",
       "      <td>8.133333</td>\n",
       "      <td>0.0</td>\n",
       "      <td>22.533333</td>\n",
       "      <td>181.0</td>\n",
       "      <td>72.0</td>\n",
       "      <td>2.0</td>\n",
       "      <td>...</td>\n",
       "      <td>40545.078792</td>\n",
       "      <td>71113.115114</td>\n",
       "      <td>8829.954371</td>\n",
       "      <td>14618.158914</td>\n",
       "      <td>3.111194</td>\n",
       "      <td>5.456807</td>\n",
       "      <td>0.677559</td>\n",
       "      <td>1.121713</td>\n",
       "      <td>1.130265</td>\n",
       "      <td>2.031236</td>\n",
       "    </tr>\n",
       "    <tr>\n",
       "      <th>30</th>\n",
       "      <td>1.0</td>\n",
       "      <td>0.0</td>\n",
       "      <td>0.0</td>\n",
       "      <td>1.0</td>\n",
       "      <td>12.600000</td>\n",
       "      <td>0.0</td>\n",
       "      <td>12.600000</td>\n",
       "      <td>213.0</td>\n",
       "      <td>100.0</td>\n",
       "      <td>2.0</td>\n",
       "      <td>...</td>\n",
       "      <td>29644.235350</td>\n",
       "      <td>44604.086924</td>\n",
       "      <td>6943.596551</td>\n",
       "      <td>10358.231973</td>\n",
       "      <td>1.391748</td>\n",
       "      <td>2.094089</td>\n",
       "      <td>0.325990</td>\n",
       "      <td>0.486302</td>\n",
       "      <td>0.476500</td>\n",
       "      <td>0.722345</td>\n",
       "    </tr>\n",
       "    <tr>\n",
       "      <th>31</th>\n",
       "      <td>1.0</td>\n",
       "      <td>1.0</td>\n",
       "      <td>0.0</td>\n",
       "      <td>1.0</td>\n",
       "      <td>7.633333</td>\n",
       "      <td>0.0</td>\n",
       "      <td>7.633333</td>\n",
       "      <td>190.0</td>\n",
       "      <td>85.0</td>\n",
       "      <td>3.0</td>\n",
       "      <td>...</td>\n",
       "      <td>36795.454106</td>\n",
       "      <td>68347.635464</td>\n",
       "      <td>10315.292346</td>\n",
       "      <td>23095.769222</td>\n",
       "      <td>2.278356</td>\n",
       "      <td>4.232052</td>\n",
       "      <td>0.638718</td>\n",
       "      <td>1.430079</td>\n",
       "      <td>0.684455</td>\n",
       "      <td>1.127754</td>\n",
       "    </tr>\n",
       "    <tr>\n",
       "      <th>32</th>\n",
       "      <td>1.0</td>\n",
       "      <td>1.0</td>\n",
       "      <td>0.0</td>\n",
       "      <td>1.0</td>\n",
       "      <td>7.933333</td>\n",
       "      <td>0.0</td>\n",
       "      <td>7.933333</td>\n",
       "      <td>228.0</td>\n",
       "      <td>85.0</td>\n",
       "      <td>2.0</td>\n",
       "      <td>...</td>\n",
       "      <td>33775.845584</td>\n",
       "      <td>49310.627645</td>\n",
       "      <td>8347.238092</td>\n",
       "      <td>12336.530100</td>\n",
       "      <td>1.742820</td>\n",
       "      <td>2.544408</td>\n",
       "      <td>0.430714</td>\n",
       "      <td>0.636560</td>\n",
       "      <td>0.574739</td>\n",
       "      <td>0.823523</td>\n",
       "    </tr>\n",
       "    <tr>\n",
       "      <th>34</th>\n",
       "      <td>1.0</td>\n",
       "      <td>1.0</td>\n",
       "      <td>1.0</td>\n",
       "      <td>2.0</td>\n",
       "      <td>72.566667</td>\n",
       "      <td>0.0</td>\n",
       "      <td>90.066667</td>\n",
       "      <td>210.0</td>\n",
       "      <td>72.0</td>\n",
       "      <td>3.0</td>\n",
       "      <td>...</td>\n",
       "      <td>54992.042130</td>\n",
       "      <td>101361.566978</td>\n",
       "      <td>13052.809002</td>\n",
       "      <td>26086.749221</td>\n",
       "      <td>3.637040</td>\n",
       "      <td>6.703807</td>\n",
       "      <td>0.863281</td>\n",
       "      <td>1.725314</td>\n",
       "      <td>1.227954</td>\n",
       "      <td>2.128901</td>\n",
       "    </tr>\n",
       "    <tr>\n",
       "      <th>36</th>\n",
       "      <td>1.0</td>\n",
       "      <td>1.0</td>\n",
       "      <td>1.0</td>\n",
       "      <td>2.0</td>\n",
       "      <td>43.066667</td>\n",
       "      <td>0.0</td>\n",
       "      <td>80.166667</td>\n",
       "      <td>211.0</td>\n",
       "      <td>68.0</td>\n",
       "      <td>2.0</td>\n",
       "      <td>...</td>\n",
       "      <td>41287.221475</td>\n",
       "      <td>54857.354635</td>\n",
       "      <td>10177.647643</td>\n",
       "      <td>14087.234457</td>\n",
       "      <td>2.877559</td>\n",
       "      <td>3.823345</td>\n",
       "      <td>0.709343</td>\n",
       "      <td>0.981826</td>\n",
       "      <td>0.943420</td>\n",
       "      <td>1.240957</td>\n",
       "    </tr>\n",
       "  </tbody>\n",
       "</table>\n",
       "<p>17 rows × 29 columns</p>\n",
       "</div>"
      ],
      "text/plain": [
       "    IDH  del1p19q  PFS  machine   DureePFS   OS    DureeOS  activity  \\\n",
       "0   1.0       1.0  1.0      1.0  48.266667  0.0  56.900000     218.0   \n",
       "4   1.0       NaN  1.0      1.0  37.566667  0.0  37.566667     220.0   \n",
       "7   1.0       1.0  0.0      1.0  35.966667  0.0  35.966667     212.0   \n",
       "9   1.0       NaN  1.0      1.0  10.766667  1.0  24.633333     173.0   \n",
       "12  1.0       1.0  0.0      1.0  14.400000  0.0  14.400000     231.0   \n",
       "14  1.0       1.0  1.0      1.0  40.966667  0.0  40.966667     245.0   \n",
       "16  1.0       NaN  1.0      1.0   8.966667  1.0   8.966667     219.0   \n",
       "19  1.0       1.0  0.0      2.0  79.533333  0.0  82.566667     215.0   \n",
       "20  1.0       1.0  0.0      2.0  72.766667  0.0  76.700000     210.0   \n",
       "21  1.0       NaN  0.0      2.0  73.000000  0.0  73.000000     220.0   \n",
       "26  1.0       1.0  0.0      1.0   8.566667  0.0   8.566667     215.0   \n",
       "27  1.0       1.0  0.0      1.0   8.133333  0.0  22.533333     181.0   \n",
       "30  1.0       0.0  0.0      1.0  12.600000  0.0  12.600000     213.0   \n",
       "31  1.0       1.0  0.0      1.0   7.633333  0.0   7.633333     190.0   \n",
       "32  1.0       1.0  0.0      1.0   7.933333  0.0   7.933333     228.0   \n",
       "34  1.0       1.0  1.0      2.0  72.566667  0.0  90.066667     210.0   \n",
       "36  1.0       1.0  1.0      2.0  43.066667  0.0  80.166667     211.0   \n",
       "\n",
       "    body_weight  grade     ...       mean_all_activity  max_all_activity  \\\n",
       "0          79.0    2.0     ...            38292.353277      66423.190335   \n",
       "4          77.0    2.0     ...            35882.622545      45965.247453   \n",
       "7          72.0    3.0     ...            46419.725355      58576.957187   \n",
       "9          80.0    3.0     ...            30161.230241      35605.271595   \n",
       "12         60.0    2.0     ...            38648.792775      54459.324393   \n",
       "14         60.0    2.0     ...            57859.243483      91420.786940   \n",
       "16         82.0    2.0     ...            29135.770436      32597.274447   \n",
       "19         70.0    4.0     ...            23675.612669      33805.047337   \n",
       "20         82.0    3.0     ...            29653.710021      44741.751448   \n",
       "21         96.0    3.0     ...            23335.702844      32949.656008   \n",
       "26         63.0    2.0     ...            44755.101705      67934.057579   \n",
       "27         72.0    2.0     ...            40545.078792      71113.115114   \n",
       "30        100.0    2.0     ...            29644.235350      44604.086924   \n",
       "31         85.0    3.0     ...            36795.454106      68347.635464   \n",
       "32         85.0    2.0     ...            33775.845584      49310.627645   \n",
       "34         72.0    3.0     ...            54992.042130     101361.566978   \n",
       "36         68.0    2.0     ...            41287.221475      54857.354635   \n",
       "\n",
       "    mean_0_3_activity  max_0_3_activity  SUVmean_all  SUVmax_all  SUVmean_0_3  \\\n",
       "0        10280.054852      18901.710099     2.223456    3.856880     0.596914   \n",
       "4         8488.071859      10988.459781     2.118219    2.713415     0.501067   \n",
       "7        10390.375008      15902.399294     3.041125    3.837589     0.680711   \n",
       "9         8269.479007       9583.114898     2.179280    2.572635     0.597506   \n",
       "12        8783.081644      12209.418360     2.788513    3.929244     0.633700   \n",
       "14       16611.406806      27342.705977     3.936003    6.219101     1.130028   \n",
       "16        7961.314643       9219.402385     1.622440    1.815195     0.443330   \n",
       "19        5419.590054       8803.416050     1.573130    2.246183     0.360106   \n",
       "20        8958.461362      14751.434560     1.722051    2.598243     0.520236   \n",
       "21        6286.574329       9350.642503     1.104910    1.560116     0.297660   \n",
       "26       10413.782113      15712.244167     3.304179    5.015434     0.768829   \n",
       "27        8829.954371      14618.158914     3.111194    5.456807     0.677559   \n",
       "30        6943.596551      10358.231973     1.391748    2.094089     0.325990   \n",
       "31       10315.292346      23095.769222     2.278356    4.232052     0.638718   \n",
       "32        8347.238092      12336.530100     1.742820    2.544408     0.430714   \n",
       "34       13052.809002      26086.749221     3.637040    6.703807     0.863281   \n",
       "36       10177.647643      14087.234457     2.877559    3.823345     0.709343   \n",
       "\n",
       "    SUVmax_0_3  SUVmean_7_10  SUVmax_7_10  \n",
       "0     1.097533      0.666722     1.080295  \n",
       "4     0.648669      0.709741     0.928613  \n",
       "7     1.041824      1.086553     1.405986  \n",
       "9     0.692422      0.666921     0.795955  \n",
       "12    0.880910      0.980148     1.403221  \n",
       "14    1.860048      1.147693     1.968841  \n",
       "16    0.513387      0.514354     0.568261  \n",
       "19    0.584945      0.551993     0.744701  \n",
       "20    0.856645      0.496650     0.712100  \n",
       "21    0.442739      0.337985     0.497381  \n",
       "26    1.160003      1.138923     1.733329  \n",
       "27    1.121713      1.130265     2.031236  \n",
       "30    0.486302      0.476500     0.722345  \n",
       "31    1.430079      0.684455     1.127754  \n",
       "32    0.636560      0.574739     0.823523  \n",
       "34    1.725314      1.227954     2.128901  \n",
       "36    0.981826      0.943420     1.240957  \n",
       "\n",
       "[17 rows x 29 columns]"
      ]
     },
     "execution_count": 43,
     "metadata": {},
     "output_type": "execute_result"
    }
   ],
   "source": [
    "IDH_mute"
   ]
  },
  {
   "cell_type": "code",
   "execution_count": 44,
   "metadata": {
    "collapsed": false
   },
   "outputs": [
    {
     "name": "stdout",
     "output_type": "stream",
     "text": [
      "0.0738624229153\n"
     ]
    }
   ],
   "source": [
    "from scipy.stats import mannwhitneyu\n",
    "\n",
    "u_value, p_value = mannwhitneyu(IDH_non_mute.SUVmean_all,IDH_mute.SUVmean_all)\n",
    "\n",
    "#u_value, p_value = mannwhitneyu(IDH_non_mute.prop3+IDH_non_mute.prop1,IDH_mute.prop3+IDH_mute.prop1)\n",
    "print(p_value)"
   ]
  },
  {
   "cell_type": "code",
   "execution_count": 45,
   "metadata": {
    "collapsed": false
   },
   "outputs": [
    {
     "name": "stdout",
     "output_type": "stream",
     "text": [
      "11686.4415702\n",
      "8829.95437076\n"
     ]
    }
   ],
   "source": [
    "print(np.median(IDH_non_mute.mean_0_3_activity))\n",
    "print(np.median(IDH_mute.mean_0_3_activity))\n"
   ]
  },
  {
   "cell_type": "code",
   "execution_count": 46,
   "metadata": {
    "collapsed": false
   },
   "outputs": [
    {
     "data": {
      "text/plain": [
       "<lifelines.KaplanMeierFitter: fitted with 37 observations, 24 censored>"
      ]
     },
     "execution_count": 46,
     "metadata": {},
     "output_type": "execute_result"
    }
   ],
   "source": [
    "import lifelines\n",
    "T = all_dat['DureeOS']\n",
    "E = all_dat['OS']\n",
    "\n",
    "\n",
    "from lifelines import KaplanMeierFitter\n",
    "kmf = KaplanMeierFitter()\n",
    "kmf.fit(T, event_observed=E) # more succiently, kmf.fit(T,E)\n"
   ]
  },
  {
   "cell_type": "code",
   "execution_count": 47,
   "metadata": {
    "collapsed": false
   },
   "outputs": [
    {
     "data": {
      "image/png": "[encoded data removed]",
      "text/plain": [
       "<matplotlib.figure.Figure at 0x110970be0>"
      ]
     },
     "metadata": {},
     "output_type": "display_data"
    }
   ],
   "source": [
    "#### Prop1 \n",
    "groups = all_dat['prop2']>0.9\n",
    "#groups=groups==True\n",
    "kmf.fit(T[groups ==True], E[groups ==True], label='Prop1 >0.9')\n",
    "ax = kmf.plot(ci_show=False,show_censors=True)\n",
    "\n",
    "\n",
    "kmf.fit(T[groups ==False], E[groups ==False], label='Prop1 <0.9')\n",
    "kmf.plot(ax=ax,ci_show=False,show_censors=True)\n",
    "\n",
    "from lifelines.plotting import add_at_risk_counts\n",
    "#add_at_risk_counts(kmf_exp, kmf_control, ax=ax)\n",
    "\n",
    "ax.grid(False)\n",
    "\n",
    "#ax.figure.savefig('prop1_0.9_OS.png')"
   ]
  },
  {
   "cell_type": "code",
   "execution_count": 48,
   "metadata": {
    "collapsed": false
   },
   "outputs": [
    {
     "name": "stdout",
     "output_type": "stream",
     "text": [
      "Results\n",
      "   alpha: 0.95\n",
      "   df: 1\n",
      "   test: logrank\n",
      "   null distribution: chi squared\n",
      "   t 0: -1\n",
      "\n",
      "   __ p-value ___|__ test statistic __|____ test result ____|__ is significant __\n",
      "         0.02642 |              4.928 |      Reject Null    |        True       \n"
     ]
    }
   ],
   "source": [
    "from lifelines.statistics import logrank_test\n",
    "\n",
    "results = logrank_test(T[groups==1], T[groups==0], E[groups==1], E[groups==0], alpha=.95 )\n",
    "\n",
    "results.print_summary()"
   ]
  },
  {
   "cell_type": "code",
   "execution_count": 82,
   "metadata": {
    "collapsed": false
   },
   "outputs": [],
   "source": [
    "####\n",
    "all_dat['whole_tumor_TAC']=cat_TAC_whole_tumor+1\n",
    "all_dat['dominant_curve']=np.argmax((all_dat.prop1,all_dat.prop2,all_dat.prop3),axis=0)+1"
   ]
  },
  {
   "cell_type": "code",
   "execution_count": 94,
   "metadata": {
    "collapsed": false
   },
   "outputs": [
    {
     "data": {
      "text/plain": [
       "Index(['IDH', 'del1p19q', 'PFS', 'machine', 'DureePFS', 'OS', 'DureeOS',\n",
       "       'activity', 'body_weight', 'grade', 'courbe1', 'courbe2', 'courbe3',\n",
       "       'volume', 'prop1', 'prop2', 'prop3', 'mean_7_10_activity',\n",
       "       'max_7_10_activity', 'mean_all_activity', 'max_all_activity',\n",
       "       'mean_0_3_activity', 'max_0_3_activity', 'SUVmean_all', 'SUVmax_all',\n",
       "       'SUVmean_0_3', 'SUVmax_0_3', 'SUVmean_7_10', 'SUVmax_7_10',\n",
       "       'whole_tumor_TAC', 'dominant_curve'],\n",
       "      dtype='object')"
      ]
     },
     "execution_count": 94,
     "metadata": {},
     "output_type": "execute_result"
    }
   ],
   "source": [
    "all_dat.columns"
   ]
  },
  {
   "cell_type": "code",
   "execution_count": 107,
   "metadata": {
    "collapsed": false
   },
   "outputs": [
    {
     "data": {
      "text/html": [
       "<div>\n",
       "<table border=\"1\" class=\"dataframe\">\n",
       "  <thead>\n",
       "    <tr style=\"text-align: right;\">\n",
       "      <th></th>\n",
       "      <th>prop1</th>\n",
       "      <th>prop2</th>\n",
       "      <th>prop3</th>\n",
       "      <th>whole_tumor_TAC</th>\n",
       "      <th>DureePFS</th>\n",
       "      <th>DureeOS</th>\n",
       "    </tr>\n",
       "  </thead>\n",
       "  <tbody>\n",
       "    <tr>\n",
       "      <th>11</th>\n",
       "      <td>0.312169</td>\n",
       "      <td>0.276455</td>\n",
       "      <td>0.411376</td>\n",
       "      <td>1.0</td>\n",
       "      <td>10.400000</td>\n",
       "      <td>30.900000</td>\n",
       "    </tr>\n",
       "    <tr>\n",
       "      <th>24</th>\n",
       "      <td>0.224863</td>\n",
       "      <td>0.506059</td>\n",
       "      <td>0.269078</td>\n",
       "      <td>1.0</td>\n",
       "      <td>3.400000</td>\n",
       "      <td>13.866667</td>\n",
       "    </tr>\n",
       "    <tr>\n",
       "      <th>31</th>\n",
       "      <td>0.288109</td>\n",
       "      <td>0.421708</td>\n",
       "      <td>0.290183</td>\n",
       "      <td>1.0</td>\n",
       "      <td>7.633333</td>\n",
       "      <td>7.633333</td>\n",
       "    </tr>\n",
       "  </tbody>\n",
       "</table>\n",
       "</div>"
      ],
      "text/plain": [
       "       prop1     prop2     prop3  whole_tumor_TAC   DureePFS    DureeOS\n",
       "11  0.312169  0.276455  0.411376              1.0  10.400000  30.900000\n",
       "24  0.224863  0.506059  0.269078              1.0   3.400000  13.866667\n",
       "31  0.288109  0.421708  0.290183              1.0   7.633333   7.633333"
      ]
     },
     "execution_count": 107,
     "metadata": {},
     "output_type": "execute_result"
    }
   ],
   "source": [
    "#patients with different TAC & whole tumor\n",
    "all_dat[all_dat['whole_tumor_TAC']!=all_dat['dominant_curve']][['prop1','prop2','prop3','whole_tumor_TAC','DureePFS','DureeOS']]"
   ]
  },
  {
   "cell_type": "code",
   "execution_count": 96,
   "metadata": {
    "collapsed": false
   },
   "outputs": [
    {
     "ename": "KeyError",
     "evalue": "\"['group' 'SUVmax_all_activity'] not in index\"",
     "output_type": "error",
     "traceback": [
      "\u001b[0;31m---------------------------------------------------------------------------\u001b[0m",
      "\u001b[0;31mKeyError\u001b[0m                                  Traceback (most recent call last)",
      "\u001b[0;32m<ipython-input-96-49dfec0b2a57>\u001b[0m in \u001b[0;36m<module>\u001b[0;34m()\u001b[0m\n\u001b[1;32m      2\u001b[0m \u001b[0;34m\u001b[0m\u001b[0m\n\u001b[1;32m      3\u001b[0m \u001b[0mcf\u001b[0m \u001b[0;34m=\u001b[0m \u001b[0mCoxPHFitter\u001b[0m\u001b[0;34m(\u001b[0m\u001b[0;34m)\u001b[0m\u001b[0;34m\u001b[0m\u001b[0m\n\u001b[0;32m----> 4\u001b[0;31m \u001b[0mcf\u001b[0m\u001b[0;34m.\u001b[0m\u001b[0mfit\u001b[0m\u001b[0;34m(\u001b[0m\u001b[0mall_dat\u001b[0m\u001b[0;34m[\u001b[0m\u001b[0;34m[\u001b[0m\u001b[0;34m'group'\u001b[0m\u001b[0;34m,\u001b[0m\u001b[0;34m'IDH'\u001b[0m\u001b[0;34m,\u001b[0m\u001b[0;34m'grade'\u001b[0m\u001b[0;34m,\u001b[0m\u001b[0;34m'SUVmax_all_activity'\u001b[0m\u001b[0;34m,\u001b[0m\u001b[0;34m'DureePFS'\u001b[0m\u001b[0;34m,\u001b[0m\u001b[0;34m'PFS'\u001b[0m\u001b[0;34m]\u001b[0m\u001b[0;34m]\u001b[0m\u001b[0;34m,\u001b[0m \u001b[0;34m'DureePFS'\u001b[0m\u001b[0;34m,\u001b[0m \u001b[0mevent_col\u001b[0m\u001b[0;34m=\u001b[0m\u001b[0;34m'PFS'\u001b[0m\u001b[0;34m)\u001b[0m\u001b[0;34m\u001b[0m\u001b[0m\n\u001b[0m\u001b[1;32m      5\u001b[0m \u001b[0;34m\u001b[0m\u001b[0m\n\u001b[1;32m      6\u001b[0m \u001b[0mcf\u001b[0m\u001b[0;34m.\u001b[0m\u001b[0mprint_summary\u001b[0m\u001b[0;34m(\u001b[0m\u001b[0;34m)\u001b[0m  \u001b[0;31m# access the results using cf.summary\u001b[0m\u001b[0;34m\u001b[0m\u001b[0m\n",
      "\u001b[0;32m/Users/Paul/miniconda2/envs/python3/lib/python3.5/site-packages/pandas/core/frame.py\u001b[0m in \u001b[0;36m__getitem__\u001b[0;34m(self, key)\u001b[0m\n\u001b[1;32m   1989\u001b[0m         \u001b[0;32mif\u001b[0m \u001b[0misinstance\u001b[0m\u001b[0;34m(\u001b[0m\u001b[0mkey\u001b[0m\u001b[0;34m,\u001b[0m \u001b[0;34m(\u001b[0m\u001b[0mSeries\u001b[0m\u001b[0;34m,\u001b[0m \u001b[0mnp\u001b[0m\u001b[0;34m.\u001b[0m\u001b[0mndarray\u001b[0m\u001b[0;34m,\u001b[0m \u001b[0mIndex\u001b[0m\u001b[0;34m,\u001b[0m \u001b[0mlist\u001b[0m\u001b[0;34m)\u001b[0m\u001b[0;34m)\u001b[0m\u001b[0;34m:\u001b[0m\u001b[0;34m\u001b[0m\u001b[0m\n\u001b[1;32m   1990\u001b[0m             \u001b[0;31m# either boolean or fancy integer index\u001b[0m\u001b[0;34m\u001b[0m\u001b[0;34m\u001b[0m\u001b[0m\n\u001b[0;32m-> 1991\u001b[0;31m             \u001b[0;32mreturn\u001b[0m \u001b[0mself\u001b[0m\u001b[0;34m.\u001b[0m\u001b[0m_getitem_array\u001b[0m\u001b[0;34m(\u001b[0m\u001b[0mkey\u001b[0m\u001b[0;34m)\u001b[0m\u001b[0;34m\u001b[0m\u001b[0m\n\u001b[0m\u001b[1;32m   1992\u001b[0m         \u001b[0;32melif\u001b[0m \u001b[0misinstance\u001b[0m\u001b[0;34m(\u001b[0m\u001b[0mkey\u001b[0m\u001b[0;34m,\u001b[0m \u001b[0mDataFrame\u001b[0m\u001b[0;34m)\u001b[0m\u001b[0;34m:\u001b[0m\u001b[0;34m\u001b[0m\u001b[0m\n\u001b[1;32m   1993\u001b[0m             \u001b[0;32mreturn\u001b[0m \u001b[0mself\u001b[0m\u001b[0;34m.\u001b[0m\u001b[0m_getitem_frame\u001b[0m\u001b[0;34m(\u001b[0m\u001b[0mkey\u001b[0m\u001b[0;34m)\u001b[0m\u001b[0;34m\u001b[0m\u001b[0m\n",
      "\u001b[0;32m/Users/Paul/miniconda2/envs/python3/lib/python3.5/site-packages/pandas/core/frame.py\u001b[0m in \u001b[0;36m_getitem_array\u001b[0;34m(self, key)\u001b[0m\n\u001b[1;32m   2033\u001b[0m             \u001b[0;32mreturn\u001b[0m \u001b[0mself\u001b[0m\u001b[0;34m.\u001b[0m\u001b[0mtake\u001b[0m\u001b[0;34m(\u001b[0m\u001b[0mindexer\u001b[0m\u001b[0;34m,\u001b[0m \u001b[0maxis\u001b[0m\u001b[0;34m=\u001b[0m\u001b[0;36m0\u001b[0m\u001b[0;34m,\u001b[0m \u001b[0mconvert\u001b[0m\u001b[0;34m=\u001b[0m\u001b[0;32mFalse\u001b[0m\u001b[0;34m)\u001b[0m\u001b[0;34m\u001b[0m\u001b[0m\n\u001b[1;32m   2034\u001b[0m         \u001b[0;32melse\u001b[0m\u001b[0;34m:\u001b[0m\u001b[0;34m\u001b[0m\u001b[0m\n\u001b[0;32m-> 2035\u001b[0;31m             \u001b[0mindexer\u001b[0m \u001b[0;34m=\u001b[0m \u001b[0mself\u001b[0m\u001b[0;34m.\u001b[0m\u001b[0mix\u001b[0m\u001b[0;34m.\u001b[0m\u001b[0m_convert_to_indexer\u001b[0m\u001b[0;34m(\u001b[0m\u001b[0mkey\u001b[0m\u001b[0;34m,\u001b[0m \u001b[0maxis\u001b[0m\u001b[0;34m=\u001b[0m\u001b[0;36m1\u001b[0m\u001b[0;34m)\u001b[0m\u001b[0;34m\u001b[0m\u001b[0m\n\u001b[0m\u001b[1;32m   2036\u001b[0m             \u001b[0;32mreturn\u001b[0m \u001b[0mself\u001b[0m\u001b[0;34m.\u001b[0m\u001b[0mtake\u001b[0m\u001b[0;34m(\u001b[0m\u001b[0mindexer\u001b[0m\u001b[0;34m,\u001b[0m \u001b[0maxis\u001b[0m\u001b[0;34m=\u001b[0m\u001b[0;36m1\u001b[0m\u001b[0;34m,\u001b[0m \u001b[0mconvert\u001b[0m\u001b[0;34m=\u001b[0m\u001b[0;32mTrue\u001b[0m\u001b[0;34m)\u001b[0m\u001b[0;34m\u001b[0m\u001b[0m\n\u001b[1;32m   2037\u001b[0m \u001b[0;34m\u001b[0m\u001b[0m\n",
      "\u001b[0;32m/Users/Paul/miniconda2/envs/python3/lib/python3.5/site-packages/pandas/core/indexing.py\u001b[0m in \u001b[0;36m_convert_to_indexer\u001b[0;34m(self, obj, axis, is_setter)\u001b[0m\n\u001b[1;32m   1212\u001b[0m                 \u001b[0mmask\u001b[0m \u001b[0;34m=\u001b[0m \u001b[0mcheck\u001b[0m \u001b[0;34m==\u001b[0m \u001b[0;34m-\u001b[0m\u001b[0;36m1\u001b[0m\u001b[0;34m\u001b[0m\u001b[0m\n\u001b[1;32m   1213\u001b[0m                 \u001b[0;32mif\u001b[0m \u001b[0mmask\u001b[0m\u001b[0;34m.\u001b[0m\u001b[0many\u001b[0m\u001b[0;34m(\u001b[0m\u001b[0;34m)\u001b[0m\u001b[0;34m:\u001b[0m\u001b[0;34m\u001b[0m\u001b[0m\n\u001b[0;32m-> 1214\u001b[0;31m                     \u001b[0;32mraise\u001b[0m \u001b[0mKeyError\u001b[0m\u001b[0;34m(\u001b[0m\u001b[0;34m'%s not in index'\u001b[0m \u001b[0;34m%\u001b[0m \u001b[0mobjarr\u001b[0m\u001b[0;34m[\u001b[0m\u001b[0mmask\u001b[0m\u001b[0;34m]\u001b[0m\u001b[0;34m)\u001b[0m\u001b[0;34m\u001b[0m\u001b[0m\n\u001b[0m\u001b[1;32m   1215\u001b[0m \u001b[0;34m\u001b[0m\u001b[0m\n\u001b[1;32m   1216\u001b[0m                 \u001b[0;32mreturn\u001b[0m \u001b[0m_values_from_object\u001b[0m\u001b[0;34m(\u001b[0m\u001b[0mindexer\u001b[0m\u001b[0;34m)\u001b[0m\u001b[0;34m\u001b[0m\u001b[0m\n",
      "\u001b[0;31mKeyError\u001b[0m: \"['group' 'SUVmax_all_activity'] not in index\""
     ]
    }
   ],
   "source": [
    "from lifelines import CoxPHFitter\n",
    "\n",
    "cf = CoxPHFitter()\n",
    "cf.fit(all_dat[['group','IDH','grade','SUVmax_all_activity','DureePFS','PFS']], 'DureePFS', event_col='PFS')\n",
    "\n",
    "cf.print_summary()  # access the results using cf.summary\n"
   ]
  },
  {
   "cell_type": "code",
   "execution_count": null,
   "metadata": {
    "collapsed": false
   },
   "outputs": [],
   "source": [
    "###\n",
    "## a l'echelle du voxel : IDH et activite ?\n",
    "IDH_long=np.array(np.repeat(all_dat.IDH,nb_voxel_mask)[:])\n",
    "poids_long=np.array(np.repeat(all_dat.body_weight,nb_voxel_mask)[:])\n",
    "activite_long=np.array(np.repeat(all_dat.activity,nb_voxel_mask)[:])\n",
    "\n",
    "IDH_mean=pd.DataFrame(IDH_long,columns=['IDH'])\n",
    "IDH_mean['activite_sum']=np.array(np.sum(vox_ts_nn[:,0:10],axis=1))\n",
    "IDH_mean['SUV_vox']=np.array(np.sum(vox_ts_nn[:,0:10],axis=1))/activite_long/poids_long\n",
    "\n",
    "IDH_mean['courbe_vox']=(min_MSE+1)"
   ]
  },
  {
   "cell_type": "code",
   "execution_count": null,
   "metadata": {
    "collapsed": false
   },
   "outputs": [],
   "source": [
    "ax=sb.boxplot(y=IDH_mean.SUV_vox,x='courbe_vox',hue='IDH',data=IDH_mean,palette=\"Set3\",width=0.3)\n",
    "plt.xticks(plt.xticks()[0], ('Curve #1','Curve #2', 'Curve #3'))\n",
    "\n",
    "# Set legend #\n",
    "handles, labels = ax.figure.get_axes()[0].get_legend_handles_labels()\n",
    "labels=['IDH wild-type','IDH mutant']\n",
    "ax.figure.get_axes()[0].legend(handles,labels, loc='upper right')\n",
    "#ax.set(ylim=(-0.01,11))\n",
    "\n",
    "ax.set(xlabel='Curve Shape')\n",
    "ax.set(ylabel='SUV 40 - 50 minutes')\n",
    "ax.grid(False)\n",
    "#ax.get_figure().savefig('SUV_shape_curve IDH_7_10_unscale.png')"
   ]
  },
  {
   "cell_type": "code",
   "execution_count": null,
   "metadata": {
    "collapsed": false
   },
   "outputs": [],
   "source": [
    "##\n",
    "ax = sb.boxplot(y='SUVmean_all',x='IDH',data=all_dat, palette=\"Set3\",width=0.3)\n",
    "ax.set(ylabel='SUVmean All Tumor 0 - 50 minutes')\n",
    "plt.xticks(plt.xticks()[0], ('IDH wild-type','IDH mutant'))\n",
    "\n",
    "ax.set(xlabel='IDH mutational status')\n",
    "#ax.get_figure().savefig('SUVmean_7_10.png')"
   ]
  },
  {
   "cell_type": "code",
   "execution_count": null,
   "metadata": {
    "collapsed": false
   },
   "outputs": [],
   "source": [
    "all_dat.to_csv('../R/data_R.csv')"
   ]
  },
  {
   "cell_type": "code",
   "execution_count": null,
   "metadata": {
    "collapsed": false
   },
   "outputs": [],
   "source": [
    "for i,col in zip(range(0,2),colors):\n",
    "    group_i=all_dat['IDH']==i\n",
    "    dat2=all_dat[group_i]\n",
    "    fig=plt.scatter(y='prop1',x='SUVmax_all_axt',data=dat2,color=col)\n"
   ]
  },
  {
   "cell_type": "code",
   "execution_count": null,
   "metadata": {
    "collapsed": true
   },
   "outputs": [],
   "source": []
  },
  {
   "cell_type": "code",
   "execution_count": null,
   "metadata": {
    "collapsed": true
   },
   "outputs": [],
   "source": []
  },
  {
   "cell_type": "code",
   "execution_count": null,
   "metadata": {
    "collapsed": true
   },
   "outputs": [],
   "source": []
  },
  {
   "cell_type": "code",
   "execution_count": null,
   "metadata": {
    "collapsed": true
   },
   "outputs": [],
   "source": []
  }
 ],
 "metadata": {
  "kernelspec": {
   "display_name": "Python 3",
   "language": "python",
   "name": "kernel_test"
  },
  "language_info": {
   "codemirror_mode": {
    "name": "ipython",
    "version": 3
   },
   "file_extension": ".py",
   "mimetype": "text/x-python",
   "name": "python",
   "nbconvert_exporter": "python",
   "pygments_lexer": "ipython3",
   "version": "3.5.3"
  }
 },
 "nbformat": 4,
 "nbformat_minor": 2
}
